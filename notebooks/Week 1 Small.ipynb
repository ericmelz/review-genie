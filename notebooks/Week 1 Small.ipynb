{
 "cells": [
  {
   "cell_type": "code",
   "execution_count": 1,
   "id": "0d180194-1bef-4b20-a360-e43ccb6fc510",
   "metadata": {},
   "outputs": [],
   "source": [
    "from openai import OpenAI\n",
    "\n",
    "from langchain_text_splitters import RecursiveCharacterTextSplitter\n",
    "from langchain_openai import OpenAIEmbeddings, ChatOpenAI\n",
    "from langchain.chains import create_retrieval_chain\n",
    "from langchain.chains.combine_documents import create_stuff_documents_chain\n",
    "from langchain_core.output_parsers import StrOutputParser\n",
    "from langchain_core.prompts import ChatPromptTemplate\n",
    "from langchain_community.vectorstores import FAISS\n",
    "\n",
    "import faiss\n",
    "\n",
    "from io import BytesIO\n",
    "import pandas as pd\n",
    "import numpy as np\n",
    "\n",
    "from googleapiclient.discovery import build\n",
    "from google_auth_oauthlib.flow import InstalledAppFlow\n",
    "from google.auth.transport.requests import Request\n",
    "from googleapiclient.http import MediaIoBaseDownload\n",
    "\n",
    "from datetime import datetime\n",
    "import pickle\n",
    "import math\n",
    "import os"
   ]
  },
  {
   "cell_type": "code",
   "execution_count": 2,
   "id": "320cf29d-4dfb-4e4e-bdc4-670bd05bf87b",
   "metadata": {},
   "outputs": [],
   "source": [
    "api_key = os.getenv('OPENAI_API_KEY')"
   ]
  },
  {
   "cell_type": "code",
   "execution_count": 3,
   "id": "5cc927d8-4fef-4b1f-8746-2646df9fb8ed",
   "metadata": {},
   "outputs": [],
   "source": [
    "client = OpenAI(api_key=api_key)"
   ]
  },
  {
   "cell_type": "code",
   "execution_count": 4,
   "id": "864e2d1a-49eb-4145-be2b-7144508592c5",
   "metadata": {},
   "outputs": [],
   "source": [
    "prompt = '''What was uber's revenue in 2022?'''"
   ]
  },
  {
   "cell_type": "code",
   "execution_count": 5,
   "id": "70c512c2-13a5-4a73-80e1-460d0ae0fa99",
   "metadata": {},
   "outputs": [],
   "source": [
    "openai_response = client.chat.completions.create(\n",
    "    model='gpt-3.5-turbo',\n",
    "    messages=[{'role':'user', 'content':prompt}])"
   ]
  },
  {
   "cell_type": "code",
   "execution_count": 6,
   "id": "4383f2bf-6a44-465c-8225-fe8b309c82af",
   "metadata": {},
   "outputs": [
    {
     "data": {
      "text/plain": [
       "\"As of the current year 2021, Uber has not released its revenue figures for 2022 yet. Typically, companies release their annual financial reports the following year. You may have to wait until 2023 to find out Uber's revenue for 2022.\""
      ]
     },
     "execution_count": 6,
     "metadata": {},
     "output_type": "execute_result"
    }
   ],
   "source": [
    "openai_response.choices[0].message.content"
   ]
  },
  {
   "cell_type": "code",
   "execution_count": 7,
   "id": "fec62c70-780d-4905-9315-a7008ea74129",
   "metadata": {},
   "outputs": [],
   "source": [
    "openai_response = client.chat.completions.create(\n",
    "    model='gpt-4o-mini',\n",
    "    messages=[{'role':'user', 'content':prompt}])"
   ]
  },
  {
   "cell_type": "code",
   "execution_count": 8,
   "id": "f6864553-083a-4c88-9aa3-8ab369d1390c",
   "metadata": {},
   "outputs": [
    {
     "data": {
      "text/plain": [
       "\"Uber's revenue for the full year 2022 was approximately $31.9 billion. This figure reflects the company's continued growth in ride-hailing and delivery services, including Uber Eats. If you need more specific information or insights about Uber's performance, feel free to ask!\""
      ]
     },
     "execution_count": 8,
     "metadata": {},
     "output_type": "execute_result"
    }
   ],
   "source": [
    "openai_response.choices[0].message.content"
   ]
  },
  {
   "cell_type": "code",
   "execution_count": 9,
   "id": "332a5d40-557d-46ca-a58d-e6fe387a0ebb",
   "metadata": {},
   "outputs": [],
   "source": [
    "retrieved_context = '''Revenue was $37.3 billion, up 17% year-over-year. Mobility revenue increased $5.8 billion primarily attributable to an increase in\n",
    "               Mobility Gross Bookings of 31% year-over-year.'''"
   ]
  },
  {
   "cell_type": "code",
   "execution_count": 10,
   "id": "e1e326fd-516e-481a-b5ea-baf3183baf87",
   "metadata": {},
   "outputs": [],
   "source": [
    "prompt = f\"What was Uber's revenue in 2022? Check in {retrieved_context}\""
   ]
  },
  {
   "cell_type": "code",
   "execution_count": 11,
   "id": "cd8db498-fccf-4df6-9619-e6d1a88acaf8",
   "metadata": {},
   "outputs": [],
   "source": [
    "openai_response = client.chat.completions.create(\n",
    "    model = 'gpt-3.5-turbo',\n",
    "    messages = [{'role': 'user', 'content': prompt}])"
   ]
  },
  {
   "cell_type": "code",
   "execution_count": 12,
   "id": "08087446-24ad-4381-b599-f84910dc3cc2",
   "metadata": {},
   "outputs": [
    {
     "data": {
      "text/plain": [
       "\"In 2022, Uber's revenue was $37.3 billion.\""
      ]
     },
     "execution_count": 12,
     "metadata": {},
     "output_type": "execute_result"
    }
   ],
   "source": [
    "openai_response.choices[0].message.content"
   ]
  },
  {
   "cell_type": "code",
   "execution_count": 13,
   "id": "e58c9e94-8de0-4d41-a5c7-2d19a1e4ba82",
   "metadata": {},
   "outputs": [
    {
     "name": "stdout",
     "output_type": "stream",
     "text": [
      "Please visit this URL to authorize this application: https://accounts.google.com/o/oauth2/auth?response_type=code&client_id=562544657444-e8o0tl8emg9s2p5hancbc7a4pbucbvod.apps.googleusercontent.com&redirect_uri=http%3A%2F%2Flocalhost%3A57291%2F&scope=https%3A%2F%2Fwww.googleapis.com%2Fauth%2Fdrive&state=8AtCmXXSp4PFkRZgplSjyIeCmoJuL6&access_type=offline\n"
     ]
    }
   ],
   "source": [
    "SCOPES = ['https://www.googleapis.com/auth/drive']\n",
    "\n",
    "creds = None\n",
    "if os.path.exists('token.pickle'):\n",
    "    with open('token.pickle', 'rb') as token:\n",
    "        creds = pickle.load(token)\n",
    "\n",
    "# Authenticate if no valid credentials exist\n",
    "if not creds or not creds.valid:\n",
    "    if creds and creds.expired and creds.refresh_token:\n",
    "        creds.refresh(Request())\n",
    "    else:\n",
    "        flow = InstalledAppFlow.from_client_secrets_file('credentials.json', SCOPES)\n",
    "        creds = flow.run_local_server(port=0)\n",
    "    \n",
    "    # Save the credentials for future use\n",
    "    with open('token.pickle', 'wb') as token:\n",
    "        pickle.dump(creds, token)\n",
    "\n",
    "# Initialize Google Drive API service\n",
    "drive_service = build('drive', 'v3', credentials=creds)"
   ]
  },
  {
   "cell_type": "code",
   "execution_count": 14,
   "id": "56e826d5-3f09-4599-a561-384325fe3f7b",
   "metadata": {},
   "outputs": [
    {
     "name": "stdout",
     "output_type": "stream",
     "text": [
      "File: train_100.csv, ID: 1f1E8hjgOWFEXIRsK5gV-j-XD2gYBwPN2\n",
      "File: Copy of Review Genie_Solution.ipynb, ID: 1QNo1c4lCjH1gm_eCx3eMnWjzloWuUZGW\n",
      "File: Movies to download, ID: 1QIXssYJy3qWHqAIQeZMd-qUkvgYERhrh3pN82m8maxo\n",
      "File: Copy of week3_template [FinQuery/SalesTrend].ipynb, ID: 13dBjmLMPx5a7liuMscpnuJ9XIvcCMGtf\n",
      "File: Copy of Week2[SalesTrends and FinQuery].ipynb, ID: 1DrTZWHKO5VCwRUyUq-50pMKYDdByUxcQ\n",
      "File: Copy of Review_Genie_Week_4_Evaluation.ipynb, ID: 1tWvl6YQwRccuxbv_lrfKgLMix3DEJgC9\n",
      "File: Copy of Live_Class_Review_Genie_Week_3.ipynb, ID: 13dHdxASHuNWfmu7ULTMEte8SZzhWS4d9\n",
      "File: Copy of Template_Review_Genie_Week_2_Agents.ipynb, ID: 1q6N1EylCVwp2BlKZzLIpZCsFA00ziVUv\n",
      "File: FinQuery, ID: 1thyzKOPzhA3pq9LJ5qiO4B2T-Nr7KJfG\n",
      "File: Review Genie, ID: 1_5o__qGXdlrXEeUSVlt6rMVA9u9a3Y_H\n"
     ]
    }
   ],
   "source": [
    "# List files in Google Drive\n",
    "results = drive_service.files().list(pageSize=10, fields=\"files(id, name)\").execute()\n",
    "files = results.get('files', [])\n",
    "\n",
    "for file in files:\n",
    "    print(f\"File: {file['name']}, ID: {file['id']}\")"
   ]
  },
  {
   "cell_type": "code",
   "execution_count": 15,
   "id": "74b3cebd-a090-467b-a371-8f76aa2d2219",
   "metadata": {},
   "outputs": [
    {
     "name": "stdout",
     "output_type": "stream",
     "text": [
      "File ID: 1f1E8hjgOWFEXIRsK5gV-j-XD2gYBwPN2\n"
     ]
    }
   ],
   "source": [
    "# List files in Google Drive\n",
    "results = drive_service.files().list(\n",
    "    q=\"name='train_100.csv'\",  # Query to search by filename\n",
    "    spaces='drive',\n",
    "    fields=\"files(id, name)\"\n",
    ").execute()\n",
    "\n",
    "files = results.get(\"files\", [])\n",
    "\n",
    "if not files:\n",
    "    print(\"No file found.\")\n",
    "else:\n",
    "    file_id = files[0]['id']\n",
    "    print(f\"File ID: {file_id}\")"
   ]
  },
  {
   "cell_type": "code",
   "execution_count": 16,
   "id": "75c6abb9-46b6-46e1-a7d5-3253e033b016",
   "metadata": {},
   "outputs": [
    {
     "name": "stdout",
     "output_type": "stream",
     "text": [
      "Download 100%.\n"
     ]
    },
    {
     "data": {
      "text/html": [
       "<div>\n",
       "<style scoped>\n",
       "    .dataframe tbody tr th:only-of-type {\n",
       "        vertical-align: middle;\n",
       "    }\n",
       "\n",
       "    .dataframe tbody tr th {\n",
       "        vertical-align: top;\n",
       "    }\n",
       "\n",
       "    .dataframe thead th {\n",
       "        text-align: right;\n",
       "    }\n",
       "</style>\n",
       "<table border=\"1\" class=\"dataframe\">\n",
       "  <thead>\n",
       "    <tr style=\"text-align: right;\">\n",
       "      <th></th>\n",
       "      <th>TITLE</th>\n",
       "      <th>BULLET_POINTS</th>\n",
       "      <th>DESCRIPTION</th>\n",
       "      <th>PRODUCT_TYPE_ID</th>\n",
       "      <th>PRODUCT_LENGTH</th>\n",
       "    </tr>\n",
       "    <tr>\n",
       "      <th>PRODUCT_ID</th>\n",
       "      <th></th>\n",
       "      <th></th>\n",
       "      <th></th>\n",
       "      <th></th>\n",
       "      <th></th>\n",
       "    </tr>\n",
       "  </thead>\n",
       "  <tbody>\n",
       "    <tr>\n",
       "      <th>1925202</th>\n",
       "      <td>ArtzFolio Tulip Flowers Blackout Curtain for D...</td>\n",
       "      <td>[LUXURIOUS &amp; APPEALING: Beautiful custom-made ...</td>\n",
       "      <td>NaN</td>\n",
       "      <td>1650</td>\n",
       "      <td>2125.980000</td>\n",
       "    </tr>\n",
       "    <tr>\n",
       "      <th>2673191</th>\n",
       "      <td>Marks &amp; Spencer Girls' Pyjama Sets T86_2561C_N...</td>\n",
       "      <td>[Harry Potter Hedwig Pyjamas (6-16 Yrs),100% c...</td>\n",
       "      <td>NaN</td>\n",
       "      <td>2755</td>\n",
       "      <td>393.700000</td>\n",
       "    </tr>\n",
       "    <tr>\n",
       "      <th>2765088</th>\n",
       "      <td>PRIKNIK Horn Red Electric Air Horn Compressor ...</td>\n",
       "      <td>[Loud Dual Tone Trumpet Horn, Compatible With ...</td>\n",
       "      <td>Specifications: Color: Red, Material: Aluminiu...</td>\n",
       "      <td>7537</td>\n",
       "      <td>748.031495</td>\n",
       "    </tr>\n",
       "    <tr>\n",
       "      <th>1594019</th>\n",
       "      <td>ALISHAH Women's Cotton Ankle Length Leggings C...</td>\n",
       "      <td>[Made By 95%cotton and 5% Lycra which gives yo...</td>\n",
       "      <td>AISHAH Women's Lycra Cotton Ankel Leggings. Br...</td>\n",
       "      <td>2996</td>\n",
       "      <td>787.401574</td>\n",
       "    </tr>\n",
       "    <tr>\n",
       "      <th>283658</th>\n",
       "      <td>The United Empire Loyalists: A Chronicle of th...</td>\n",
       "      <td>NaN</td>\n",
       "      <td>NaN</td>\n",
       "      <td>6112</td>\n",
       "      <td>598.424000</td>\n",
       "    </tr>\n",
       "  </tbody>\n",
       "</table>\n",
       "</div>"
      ],
      "text/plain": [
       "                                                        TITLE  \\\n",
       "PRODUCT_ID                                                      \n",
       "1925202     ArtzFolio Tulip Flowers Blackout Curtain for D...   \n",
       "2673191     Marks & Spencer Girls' Pyjama Sets T86_2561C_N...   \n",
       "2765088     PRIKNIK Horn Red Electric Air Horn Compressor ...   \n",
       "1594019     ALISHAH Women's Cotton Ankle Length Leggings C...   \n",
       "283658      The United Empire Loyalists: A Chronicle of th...   \n",
       "\n",
       "                                                BULLET_POINTS  \\\n",
       "PRODUCT_ID                                                      \n",
       "1925202     [LUXURIOUS & APPEALING: Beautiful custom-made ...   \n",
       "2673191     [Harry Potter Hedwig Pyjamas (6-16 Yrs),100% c...   \n",
       "2765088     [Loud Dual Tone Trumpet Horn, Compatible With ...   \n",
       "1594019     [Made By 95%cotton and 5% Lycra which gives yo...   \n",
       "283658                                                    NaN   \n",
       "\n",
       "                                                  DESCRIPTION  \\\n",
       "PRODUCT_ID                                                      \n",
       "1925202                                                   NaN   \n",
       "2673191                                                   NaN   \n",
       "2765088     Specifications: Color: Red, Material: Aluminiu...   \n",
       "1594019     AISHAH Women's Lycra Cotton Ankel Leggings. Br...   \n",
       "283658                                                    NaN   \n",
       "\n",
       "            PRODUCT_TYPE_ID  PRODUCT_LENGTH  \n",
       "PRODUCT_ID                                   \n",
       "1925202                1650     2125.980000  \n",
       "2673191                2755      393.700000  \n",
       "2765088                7537      748.031495  \n",
       "1594019                2996      787.401574  \n",
       "283658                 6112      598.424000  "
      ]
     },
     "execution_count": 16,
     "metadata": {},
     "output_type": "execute_result"
    }
   ],
   "source": [
    "# Request to download the file\n",
    "request = drive_service.files().get_media(fileId=file_id)\n",
    "file = BytesIO()\n",
    "downloader = MediaIoBaseDownload(file, request)\n",
    "\n",
    "done = False\n",
    "while not done:\n",
    "    status, done = downloader.next_chunk()\n",
    "    print(f\"Download {int(status.progress() * 100)}%.\")\n",
    "\n",
    "# Move to the beginning of the file\n",
    "file.seek(0)\n",
    "\n",
    "# Read CSV into Pandas DataFrame\n",
    "df = pd.read_csv(file, index_col=0)\n",
    "\n",
    "# Display the first few rows\n",
    "df.head()\n"
   ]
  },
  {
   "cell_type": "code",
   "execution_count": 17,
   "id": "2fe6d6f1-613a-4d42-b1c6-a191520ccdbd",
   "metadata": {},
   "outputs": [
    {
     "name": "stdout",
     "output_type": "stream",
     "text": [
      "processing row 0\n",
      "CPU times: user 12.9 ms, sys: 1.63 ms, total: 14.5 ms\n",
      "Wall time: 14.2 ms\n"
     ]
    }
   ],
   "source": [
    "%%time\n",
    "product_description = []\n",
    "product_description_len = []\n",
    "\n",
    "row_num = 0\n",
    "# Iterating through each row in the dataframe df2\n",
    "for row in df.iterrows():\n",
    "    if row_num % 100000 == 0:\n",
    "        print(f\"processing row {row_num}\")\n",
    "    row_num += 1\n",
    "    product = \"\"  # Initialize an empty string to accumulate product details\n",
    "\n",
    "    # Extracting the product title from the current row\n",
    "    title = row[1][\"TITLE\"]\n",
    "\n",
    "    # Checking if the title is valid (not NaN or missing)\n",
    "    if type(title) != float or not math.isnan(title):\n",
    "        product += \"Title\\n\" + title + \"\\n\"  # Append the title to the product description\n",
    "\n",
    "    # Extracting the product description from the current row\n",
    "    description = row[1][\"DESCRIPTION\"]\n",
    "\n",
    "    # Checking if the description is valid (not NaN or missing)\n",
    "    if type(description) != float or not math.isnan(description):\n",
    "        product += \"Description\\n\" + description + \"\\n\"  # Append the description to the product details\n",
    "\n",
    "    # Check if either title or description was added\n",
    "    added_content = title or description\n",
    "    if added_content:\n",
    "        product = product.strip()  # Remove any leading/trailing whitespace\n",
    "        product_description.append(product)  # Add the formatted product details to the list\n",
    "        product_description_len.append(len(product))  # Store the length of the product description"
   ]
  },
  {
   "cell_type": "code",
   "execution_count": 18,
   "id": "5d9be294-9fa3-43b8-8478-2ed315e56bf9",
   "metadata": {},
   "outputs": [
    {
     "name": "stdout",
     "output_type": "stream",
     "text": [
      "Number of elements 100\n",
      "Number of items 100\n",
      "Min length of the description 18\n",
      "Avg length of the description 385.9\n",
      "Max length of the description 1834\n"
     ]
    }
   ],
   "source": [
    "print(f\"Number of elements {len(product_description)}\")\n",
    "print(\"Number of items\", len(product_description_len))\n",
    "print(\"Min length of the description\", np.min(product_description_len))\n",
    "print(\"Avg length of the description\", np.mean(product_description_len))\n",
    "print(\"Max length of the description\", np.max(product_description_len))"
   ]
  },
  {
   "cell_type": "code",
   "execution_count": 19,
   "id": "bdf790dc-1692-4b4c-99b3-ab92fe6180a7",
   "metadata": {},
   "outputs": [
    {
     "name": "stdout",
     "output_type": "stream",
     "text": [
      "CPU times: user 14.1 ms, sys: 2.28 ms, total: 16.3 ms\n",
      "Wall time: 17 ms\n"
     ]
    }
   ],
   "source": [
    "%%time\n",
    "text_splitter = RecursiveCharacterTextSplitter(\n",
    "    chunk_size=250,\n",
    "    chunk_overlap=20,\n",
    "    length_function=len,\n",
    "    is_separator_regex=False,\n",
    ")\n",
    "documents = text_splitter.create_documents(product_description)"
   ]
  },
  {
   "cell_type": "code",
   "execution_count": 20,
   "id": "54c544d0-999a-4da3-94a4-5998eba0ba97",
   "metadata": {},
   "outputs": [],
   "source": [
    "embeddings = OpenAIEmbeddings()"
   ]
  },
  {
   "cell_type": "code",
   "execution_count": 21,
   "id": "df42e1c4-19f7-434f-a9d1-d89a0870956e",
   "metadata": {},
   "outputs": [],
   "source": [
    "vector = FAISS.from_documents(documents, embeddings)"
   ]
  },
  {
   "cell_type": "code",
   "execution_count": 22,
   "id": "ec3a8af0-9482-4f18-bddf-f1140c94373b",
   "metadata": {},
   "outputs": [],
   "source": [
    "llm = ChatOpenAI(api_key=os.environ[\"OPENAI_API_KEY\"], model = 'gpt-4o-mini')"
   ]
  },
  {
   "cell_type": "code",
   "execution_count": 23,
   "id": "0fce76f9-0d4c-495e-85a8-220ec9ed37e3",
   "metadata": {},
   "outputs": [],
   "source": [
    "# Importing the output parser to process and format the model's response into a readable string format.\n",
    "output_parser = StrOutputParser()\n",
    "\n",
    "# Creating a prompt template that instructs the AI to act as a customer service agent.\n",
    "# The prompt takes two parameters:\n",
    "#   1. {context} - Relevant information retrieved from the document store.\n",
    "#   2. {input} - The user's question.\n",
    "# The model is instructed to base its answer solely on the provided context.\n",
    "prompt = ChatPromptTemplate.from_template(\n",
    "    \"\"\"Answer the following question based only on the provided context:\n",
    "\n",
    "    <context>\n",
    "    {context}\n",
    "    </context>\n",
    "\n",
    "    Question: {input}\"\"\",\n",
    "    output_parser=output_parser  # The output parser ensures that the response is returned in a structured string format.\n",
    ")\n",
    "\n",
    "# Creating a document processing chain using the LLM and the defined prompt template.\n",
    "# This chain takes a list of retrieved documents and passes them as context to the model for generating responses.\n",
    "document_chain = create_stuff_documents_chain(llm, prompt)\n",
    "\n",
    "# Alternative chain creation method:\n",
    "# Using the \"|\" (pipe) operator to link the prompt with the language model (llm),\n",
    "# meaning the input first goes to the prompt and then to the model for response generation.\n",
    "# document_chain = prompt | llm"
   ]
  },
  {
   "cell_type": "code",
   "execution_count": 24,
   "id": "6ad35232-c6c6-4367-bb70-e4e81e953559",
   "metadata": {},
   "outputs": [],
   "source": [
    "retriever = vector.as_retriever()"
   ]
  },
  {
   "cell_type": "code",
   "execution_count": 25,
   "id": "e1b8b563-10e4-47ff-8fb3-4ac5952da33d",
   "metadata": {},
   "outputs": [],
   "source": [
    "retrieval_chain = create_retrieval_chain(retriever, document_chain)"
   ]
  },
  {
   "cell_type": "code",
   "execution_count": 26,
   "id": "fa418616-b69a-49e9-9e97-12c81697f95a",
   "metadata": {},
   "outputs": [
    {
     "name": "stdout",
     "output_type": "stream",
     "text": [
      "CPU times: user 45.1 ms, sys: 10.9 ms, total: 56 ms\n",
      "Wall time: 2.33 s\n"
     ]
    },
    {
     "data": {
      "text/plain": [
       "{'input': 'what are some of the best shoes available?',\n",
       " 'context': [Document(id='c0cd7492-4c9f-467c-b00d-ba42fd6cd18c', metadata={}, page_content=\"Title\\nadidas Men's Predator 18+ FG Firm Ground Soccer Cleats\\nDescription\\nadidas Predator 18+ FG- Black 7.5\"),\n",
       "  Document(id='8615b689-b2da-4278-8b75-236da0ccf24d', metadata={}, page_content=\"Title\\nKenneth Cole REACTION Men's Crespo Loafer B Shoe, Cognac, 10 M US\"),\n",
       "  Document(id='c85b8322-4692-4a8c-9290-440c3288a085', metadata={}, page_content=\"Title\\nPUMA Cali Sport Clean Women's Sneakers White Leather (37540701)\"),\n",
       "  Document(id='6f78bf1b-2277-4cea-b417-a26c4af22417', metadata={}, page_content=\"The Remora Climbing Shoe is Mad Rock's do-it-all slipper for climbers who can't have separate shoes for boulders, sport routes, and gyms. With a moderately stiff, slightly downturned design, the Remora performs on any climb at steep to vertical\")],\n",
       " 'answer': \"Based on the provided context, some of the best shoes available include: \\n\\n1. adidas Men's Predator 18+ FG Firm Ground Soccer Cleats\\n2. Kenneth Cole REACTION Men's Crespo Loafer B Shoe\\n3. PUMA Cali Sport Clean Women's Sneakers\\n4. Mad Rock Remora Climbing Shoe \\n\\nThese shoes cater to different activities including soccer, casual wear, and climbing.\"}"
      ]
     },
     "execution_count": 26,
     "metadata": {},
     "output_type": "execute_result"
    }
   ],
   "source": [
    "%%time\n",
    "retrieval_chain.invoke({\"input\": \"what are some of the best shoes available?\"})"
   ]
  },
  {
   "cell_type": "code",
   "execution_count": 27,
   "id": "44a2e555-f9f2-44f9-a892-a62a65144b0a",
   "metadata": {},
   "outputs": [
    {
     "data": {
      "text/plain": [
       "\"Based on the provided context, some of the best shoes available include:\\n\\n1. adidas Men's Predator 18+ FG Firm Ground Soccer Cleats\\n2. Kenneth Cole REACTION Men's Crespo Loafer B Shoe\\n3. PUMA Cali Sport Clean Women's Sneakers\\n4. Mad Rock Remora Climbing Shoe\\n\\nThese options cater to different activities such as soccer, casual wear, and climbing.\""
      ]
     },
     "execution_count": 27,
     "metadata": {},
     "output_type": "execute_result"
    }
   ],
   "source": [
    "retrieval_chain.invoke({\"input\": \"what are some of the best shoes available?\"})['answer']"
   ]
  },
  {
   "cell_type": "code",
   "execution_count": 28,
   "id": "ee8b9b1c-3eef-4a53-97db-0233ad075cfa",
   "metadata": {},
   "outputs": [],
   "source": [
    "def final_response(user_query):\n",
    "    # Invoking the retrieval chain with the user's query to fetch relevant product information\n",
    "    response = retrieval_chain.invoke({\"input\": user_query})['answer']\n",
    "\n",
    "    # Creating a prompt to instruct the AI to format the response properly\n",
    "    # The prompt asks the AI to extract only product names from the retrieved response\n",
    "    prompt = f\"Format the responses properly in {response}. Just return the product names, no other text\"\n",
    "\n",
    "    # Sending the formatted prompt to the GPT-4o-mini model for processing\n",
    "    openai_response = client.chat.completions.create(\n",
    "        model='gpt-4o-mini',  # Using GPT-4o-mini model for response generation\n",
    "        messages=[{'role': 'user', 'content': prompt}]  # Providing the prompt to the model\n",
    "    )\n",
    "\n",
    "    # Extracting and returning the AI-generated response containing only the product names\n",
    "    return openai_response.choices[0].message.content"
   ]
  },
  {
   "cell_type": "code",
   "execution_count": 29,
   "id": "7d8590ac-645e-43c7-91ba-5a69e20f3605",
   "metadata": {},
   "outputs": [
    {
     "name": "stdout",
     "output_type": "stream",
     "text": [
      "1. adidas Men's Predator 18+ FG Firm Ground Soccer Cleats  \n",
      "2. Kenneth Cole REACTION Men's Crespo Loafer B Shoe  \n",
      "3. PUMA Cali Sport Clean Women's Sneakers  \n",
      "4. Mad Rock Remora Climbing Shoe  \n"
     ]
    }
   ],
   "source": [
    "print(final_response(\"what are some of the best shoes available?\"))"
   ]
  },
  {
   "cell_type": "code",
   "execution_count": 30,
   "id": "fdc13cad-a56e-4e00-a60e-9fae8b9eff4c",
   "metadata": {},
   "outputs": [
    {
     "name": "stderr",
     "output_type": "stream",
     "text": [
      "/Users/ericmelz/Data/code/review-genie/venv/lib/python3.13/site-packages/gradio/interface.py:403: UserWarning: The `allow_flagging` parameter in `Interface` is deprecated.Use `flagging_mode` instead.\n",
      "  warnings.warn(\n"
     ]
    },
    {
     "name": "stdout",
     "output_type": "stream",
     "text": [
      "* Running on local URL:  http://127.0.0.1:7860\n",
      "\n",
      "To create a public link, set `share=True` in `launch()`.\n"
     ]
    },
    {
     "data": {
      "text/html": [
       "<div><iframe src=\"http://127.0.0.1:7860/\" width=\"100%\" height=\"500\" allow=\"autoplay; camera; microphone; clipboard-read; clipboard-write;\" frameborder=\"0\" allowfullscreen></iframe></div>"
      ],
      "text/plain": [
       "<IPython.core.display.HTML object>"
      ]
     },
     "metadata": {},
     "output_type": "display_data"
    },
    {
     "data": {
      "text/plain": []
     },
     "execution_count": 30,
     "metadata": {},
     "output_type": "execute_result"
    }
   ],
   "source": [
    "# Importing the Gradio library to create a simple web-based user interface\n",
    "import gradio as gr\n",
    "\n",
    "# Creating the Gradio interface for the product recommendation system\n",
    "app = gr.Interface(\n",
    "    fn=final_response,        # The function that processes user input and returns recommendations\n",
    "    inputs=\"text\",            # Input component: a text box for users to enter their query\n",
    "    outputs=\"text\",           # Output component: a text box to display the AI-generated response\n",
    "    title=\"Review Genie\",     # The title of the web interface\n",
    "    description=\"Type your question below to get the recommendations\",# A brief description displayed to users\n",
    "    theme=\"Ocean\",\n",
    "    allow_flagging=\"never\"    # Disabling the flagging feature to remove the \"Flag\" button\n",
    ")\n",
    "\n",
    "# Launching the Gradio app to start the interface and make it accessible via web browser\n",
    "app.launch()\n"
   ]
  },
  {
   "cell_type": "code",
   "execution_count": null,
   "id": "17526981-cc96-45d4-bf56-919ce2b223d2",
   "metadata": {},
   "outputs": [],
   "source": []
  }
 ],
 "metadata": {
  "kernelspec": {
   "display_name": "Python 3 (ipykernel)",
   "language": "python",
   "name": "python3"
  },
  "language_info": {
   "codemirror_mode": {
    "name": "ipython",
    "version": 3
   },
   "file_extension": ".py",
   "mimetype": "text/x-python",
   "name": "python",
   "nbconvert_exporter": "python",
   "pygments_lexer": "ipython3",
   "version": "3.13.0"
  }
 },
 "nbformat": 4,
 "nbformat_minor": 5
}
