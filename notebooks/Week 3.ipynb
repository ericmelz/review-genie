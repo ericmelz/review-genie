{
 "cells": [
  {
   "cell_type": "code",
   "execution_count": 1,
   "id": "3231cf96-99aa-45a3-bbbd-59a9be541458",
   "metadata": {},
   "outputs": [],
   "source": [
    "import kagglehub\n",
    "import csv\n",
    "import pandas as pd\n",
    "import math\n",
    "import numpy as np\n",
    "import pickle\n",
    "import os\n",
    "import getpass\n",
    "\n",
    "from io import BytesIO\n",
    "from googleapiclient.discovery import build\n",
    "from google_auth_oauthlib.flow import InstalledAppFlow\n",
    "from google.auth.transport.requests import Request\n",
    "from googleapiclient.http import MediaIoBaseDownload\n",
    "\n",
    "from langchain_core.output_parsers import StrOutputParser\n",
    "from langchain_openai import ChatOpenAI\n",
    "from langchain_core.prompts import ChatPromptTemplate\n",
    "from langchain_openai import OpenAIEmbeddings\n",
    "from langchain_core.prompts import ChatPromptTemplate\n",
    "from langchain.chains.combine_documents import create_stuff_documents_chain\n",
    "from langchain.chains import create_retrieval_chain\n",
    "from langchain_text_splitters import RecursiveCharacterTextSplitter\n",
    "from langchain_openai import OpenAIEmbeddings\n",
    "from langchain_community.vectorstores import FAISS\n",
    "from langchain_core.output_parsers import StrOutputParser\n",
    "from langchain.agents import create_openai_functions_agent\n",
    "from langchain.tools import tool\n",
    "from langchain.tools.retriever import create_retriever_tool\n",
    "from langchain_community.tools.tavily_search import TavilySearchResults\n",
    "from langchain import hub # Used to pull predefined prompts from LangChain Hub\n",
    "from langchain.agents import AgentExecutor, create_react_agent\n",
    "from langchain.memory import ChatMessageHistory  # Used to store chat history in memory\n",
    "from langchain_core.runnables.history import RunnableWithMessageHistory\n",
    "from langchain_openai import OpenAI\n",
    "\n",
    "import tiktoken"
   ]
  },
  {
   "cell_type": "markdown",
   "id": "7640fda2-a940-48a8-a720-eb2e0c9585a2",
   "metadata": {},
   "source": [
    "### Load data and prepare documents"
   ]
  },
  {
   "cell_type": "code",
   "execution_count": 2,
   "id": "37efd3bd-ca5c-4e60-8d9f-43affc3d9cc6",
   "metadata": {},
   "outputs": [
    {
     "name": "stdout",
     "output_type": "stream",
     "text": [
      "File ID: 1f1E8hjgOWFEXIRsK5gV-j-XD2gYBwPN2\n",
      "Download 100%.\n",
      "processing row 0\n",
      "Number of elements 100\n",
      "Number of items 100\n",
      "Min length of the description 18\n",
      "Avg length of the description 385.9\n",
      "Max length of the description 1834\n",
      "CPU times: user 45.7 ms, sys: 12.2 ms, total: 57.8 ms\n",
      "Wall time: 1.11 s\n"
     ]
    }
   ],
   "source": [
    "%%time\n",
    "SCOPES = ['https://www.googleapis.com/auth/drive']\n",
    "\n",
    "creds = None\n",
    "if os.path.exists('token.pickle'):\n",
    "    with open('token.pickle', 'rb') as token:\n",
    "        creds = pickle.load(token)\n",
    "\n",
    "# Authenticate if no valid credentials exist\n",
    "if not creds or not creds.valid:\n",
    "    if creds and creds.expired and creds.refresh_token:\n",
    "        creds.refresh(Request())\n",
    "    else:\n",
    "        flow = InstalledAppFlow.from_client_secrets_file('credentials.json', SCOPES)\n",
    "        creds = flow.run_local_server(port=0)\n",
    "    \n",
    "    # Save the credentials for future use\n",
    "    with open('token.pickle', 'wb') as token:\n",
    "        pickle.dump(creds, token)\n",
    "\n",
    "# Initialize Google Drive API service\n",
    "drive_service = build('drive', 'v3', credentials=creds)\n",
    "\n",
    "# List files in Google Drive\n",
    "results = drive_service.files().list(\n",
    "    q=\"name='train_100.csv'\",  # Query to search by filename\n",
    "    spaces='drive',\n",
    "    fields=\"files(id, name)\"\n",
    ").execute()\n",
    "\n",
    "files = results.get(\"files\", [])\n",
    "\n",
    "if not files:\n",
    "    print(\"No file found.\")\n",
    "else:\n",
    "    file_id = files[0]['id']\n",
    "    print(f\"File ID: {file_id}\")\n",
    "\n",
    "    # Request to download the file\n",
    "request = drive_service.files().get_media(fileId=file_id)\n",
    "file = BytesIO()\n",
    "downloader = MediaIoBaseDownload(file, request)\n",
    "\n",
    "done = False\n",
    "while not done:\n",
    "    status, done = downloader.next_chunk()\n",
    "    print(f\"Download {int(status.progress() * 100)}%.\")\n",
    "\n",
    "# Move to the beginning of the file\n",
    "file.seek(0)\n",
    "\n",
    "# Read CSV into Pandas DataFrame\n",
    "df = pd.read_csv(file, index_col=0)\n",
    "\n",
    "# Display the first few rows\n",
    "df.head()\n",
    "\n",
    "product_description = []\n",
    "product_description_len = []\n",
    "\n",
    "row_num = 0\n",
    "# Iterating through each row in the dataframe df2\n",
    "for row in df.iterrows():\n",
    "    if row_num % 100000 == 0:\n",
    "        print(f\"processing row {row_num}\")\n",
    "    row_num += 1\n",
    "    product = \"\"  # Initialize an empty string to accumulate product details\n",
    "\n",
    "    # Extracting the product title from the current row\n",
    "    title = row[1][\"TITLE\"]\n",
    "\n",
    "    # Checking if the title is valid (not NaN or missing)\n",
    "    if type(title) != float or not math.isnan(title):\n",
    "        product += \"Title\\n\" + title + \"\\n\"  # Append the title to the product description\n",
    "\n",
    "    # Extracting the product description from the current row\n",
    "    description = row[1][\"DESCRIPTION\"]\n",
    "\n",
    "    # Checking if the description is valid (not NaN or missing)\n",
    "    if type(description) != float or not math.isnan(description):\n",
    "        product += \"Description\\n\" + description + \"\\n\"  # Append the description to the product details\n",
    "\n",
    "    # Check if either title or description was added\n",
    "    added_content = title or description\n",
    "    if added_content:\n",
    "        product = product.strip()  # Remove any leading/trailing whitespace\n",
    "        product_description.append(product)  # Add the formatted product details to the list\n",
    "        product_description_len.append(len(product))  # Store the length of the product description\n",
    "\n",
    "print(f\"Number of elements {len(product_description)}\")\n",
    "print(\"Number of items\", len(product_description_len))\n",
    "print(\"Min length of the description\", np.min(product_description_len))\n",
    "print(\"Avg length of the description\", np.mean(product_description_len))\n",
    "print(\"Max length of the description\", np.max(product_description_len))"
   ]
  },
  {
   "cell_type": "markdown",
   "id": "75bc0ecf-91b0-4b44-a9c1-b9e87861ac5c",
   "metadata": {},
   "source": [
    "### Build retrieval chain"
   ]
  },
  {
   "cell_type": "code",
   "execution_count": 3,
   "id": "e02bdce1-caf7-4162-9256-68f93668ab00",
   "metadata": {},
   "outputs": [
    {
     "name": "stdout",
     "output_type": "stream",
     "text": [
      "CPU times: user 491 ms, sys: 66.2 ms, total: 557 ms\n",
      "Wall time: 1.63 s\n"
     ]
    }
   ],
   "source": [
    "%%time\n",
    "# Chunking the Data(Product Description)\n",
    "# See this for more details https://python.langchain.com/v0.1/docs/modules/data_connection/document_transformers/recursive_text_splitter/\n",
    "text_splitter = RecursiveCharacterTextSplitter(\n",
    "    chunk_size=250,\n",
    "    chunk_overlap=20,\n",
    "    length_function=len,\n",
    "    is_separator_regex=False,\n",
    ")\n",
    "documents = text_splitter.create_documents(product_description)\n",
    "\n",
    "# Create an embedding model using LangChain.\n",
    "# See https://python.langchain.com/docs/integrations/text_embedding/ for a list of available embedding models on LangChain\n",
    "embeddings = OpenAIEmbeddings()\n",
    "\n",
    "# Create a vector store using the created chuns and the embeddings model\n",
    "vector = FAISS.from_documents(documents, embeddings)\n",
    "\n",
    "# Create ChatOpenAI object for acting as an LLM.\n",
    "# See https://python.langchain.com/docs/integrations/chat/openai/\n",
    "llm = ChatOpenAI(api_key=os.environ[\"OPENAI_API_KEY\"])\n",
    "\n",
    "# Create a prompt template that gives the model a persona of a customer\n",
    "# Create a chain for passing a list of Documents to a model.\n",
    "output_parser = StrOutputParser()\n",
    "prompt = ChatPromptTemplate.from_template(\"\"\"Answer the following question based only on the provided context:\n",
    "\n",
    "<context>\n",
    "{context}\n",
    "</context>\n",
    "\n",
    "Question: {input}\"\"\", output_parser = output_parser)\n",
    "\n",
    "document_chain = create_stuff_documents_chain(llm, prompt)\n",
    "# document_chain = prompt | llm\n",
    "\n",
    "# Creating a retriever\n",
    "# See https://python.langchain.com/v0.1/docs/modules/data_connection/retrievers/vectorstore/\n",
    "retriever = vector.as_retriever()\n",
    "retrieval_chain = create_retrieval_chain(retriever, document_chain)\n"
   ]
  },
  {
   "cell_type": "markdown",
   "id": "3c0aab07-effb-475d-9a57-61fca1da9965",
   "metadata": {},
   "source": [
    "### Setup Tools and agents"
   ]
  },
  {
   "cell_type": "code",
   "execution_count": 4,
   "id": "fbb96ae8-4e06-4f99-9d01-ec23828423de",
   "metadata": {},
   "outputs": [
    {
     "name": "stderr",
     "output_type": "stream",
     "text": [
      "/Users/ericmelz/Data/code/review-genie/venv/lib/python3.13/site-packages/langsmith/client.py:277: LangSmithMissingAPIKeyWarning: API key must be provided when using hosted LangSmith API\n",
      "  warnings.warn(\n"
     ]
    },
    {
     "name": "stdout",
     "output_type": "stream",
     "text": [
      "Answer the following questions as best you can. You have access to the following tools:\n",
      "\n",
      "{tools}\n",
      "\n",
      "Use the following format:\n",
      "\n",
      "Question: the input question you must answer\n",
      "Thought: you should always think about what to do\n",
      "Action: the action to take, should be one of [{tool_names}]\n",
      "Action Input: the input to the action\n",
      "Observation: the result of the action\n",
      "... (this Thought/Action/Action Input/Observation can repeat N times)\n",
      "Thought: I now know the final answer\n",
      "Final Answer: the final answer to the original input question\n",
      "\n",
      "Begin!\n",
      "\n",
      "Question: {input}\n",
      "Thought:{agent_scratchpad}\n"
     ]
    }
   ],
   "source": [
    "@tool\n",
    "def amazon_product_search(query: str):\n",
    "    \"\"\"Search for information about Amazon products.\n",
    "    For any questions related to Amazon products, this tool must be used.\"\"\"\n",
    "\n",
    "    retriever_tool = create_retriever_tool(\n",
    "        retriever,\n",
    "        name=\"amazon_search\",\n",
    "        description=\"Search for information about Amazon products\"\n",
    "    )\n",
    "    return retriever_tool.invoke(query)\n",
    "\n",
    "@tool\n",
    "def search_tavily(query: str):\n",
    "    \"\"\"\n",
    "    Executes a web search using the TavilySearchResults tool.\n",
    "\n",
    "    Parameters:\n",
    "      query (str): The search query entered by the user.\n",
    "\n",
    "    Returns:\n",
    "      list: A list of search results containing answers, raw content, and images.\n",
    "    \"\"\"\n",
    "    search_tool = TavilySearchResults(\n",
    "        max_results=5,\n",
    "        include_answer=True,  # include direct answers when available\n",
    "        include_raw_content=True,\n",
    "        include_images=True\n",
    "    )\n",
    "\n",
    "    return search_tool.invoke(query)\n",
    "\n",
    "tools = [amazon_product_search, search_tavily]\n",
    "\n",
    "# hwchase17/react is a prompt template designed for ReAct-style\n",
    "# conversational agents.\n",
    "prompt = hub.pull(\"hwchase17/react\")\n",
    "\n",
    "print(prompt.template)\n",
    "\n",
    "llm = ChatOpenAI(model='gpt-4o-mini', temperature=0)\n",
    "\n",
    "react_agent = create_react_agent(\n",
    "    llm=llm,\n",
    "    tools=tools,\n",
    "    prompt=prompt)\n",
    "\n",
    "agent_executor = AgentExecutor(\n",
    "    agent=react_agent,\n",
    "    tools=tools,\n",
    "    verbose=True,\n",
    "    handle_parsing_errors=True,\n",
    "    max_iterations=5\n",
    ")\n",
    "    "
   ]
  },
  {
   "cell_type": "code",
   "execution_count": 5,
   "id": "adb84e66-faea-495a-aa1d-daf81fa9ed05",
   "metadata": {},
   "outputs": [
    {
     "name": "stdout",
     "output_type": "stream",
     "text": [
      "\n",
      "\n",
      "\u001b[1m> Entering new AgentExecutor chain...\u001b[0m\n",
      "\u001b[32;1m\u001b[1;3mTo find the best shoes available on Amazon, I should search for popular and highly-rated options. I'll use the Amazon product search tool to gather relevant information.  \n",
      "Action: amazon_product_search  \n",
      "Action Input: \"best shoes\"  \u001b[0m\u001b[36;1m\u001b[1;3mThe Remora Climbing Shoe is Mad Rock's do-it-all slipper for climbers who can't have separate shoes for boulders, sport routes, and gyms. With a moderately stiff, slightly downturned design, the Remora performs on any climb at steep to vertical\n",
      "\n",
      "steep to vertical angles. Science Friction rubber edges on jibs with ease, and it encapsulates the forefoot for toe-hooking prowess. The SynFlex upper conforms to your foot without much stretch.\n",
      "\n",
      "Title\n",
      "adidas Men's Predator 18+ FG Firm Ground Soccer Cleats\n",
      "Description\n",
      "adidas Predator 18+ FG- Black 7.5\n",
      "\n",
      "Title\n",
      "Kenneth Cole REACTION Men's Crespo Loafer B Shoe, Cognac, 10 M US\u001b[0m\u001b[32;1m\u001b[1;3mI need to gather more options to provide a comprehensive answer about the best shoes available on Amazon. I'll continue searching for more highly-rated shoes.  \n",
      "Action: amazon_product_search  \n",
      "Action Input: \"top rated shoes\"  \u001b[0m\u001b[36;1m\u001b[1;3mTitle\n",
      "Kenneth Cole REACTION Men's Crespo Loafer B Shoe, Cognac, 10 M US\n",
      "\n",
      "Title\n",
      "adidas Men's Predator 18+ FG Firm Ground Soccer Cleats\n",
      "Description\n",
      "adidas Predator 18+ FG- Black 7.5\n",
      "\n",
      "Title\n",
      "Mad Rock Remora Climbing Shoe - Men's Blue 9.5\n",
      "Description\n",
      "\n",
      "Title\n",
      "PUMA Cali Sport Clean Women's Sneakers White Leather (37540701)\u001b[0m\u001b[32;1m\u001b[1;3mI have gathered several options for the best shoes available on Amazon, including various types for different activities. However, I need to summarize the findings to provide a clear answer.  \n",
      "Final Answer: Some of the best shoes available on Amazon include the adidas Men's Predator 18+ FG Firm Ground Soccer Cleats, Kenneth Cole REACTION Men's Crespo Loafer B Shoe, and the Mad Rock Remora Climbing Shoe. Additionally, the PUMA Cali Sport Clean Women's Sneakers are also a popular choice.\u001b[0m\n",
      "\n",
      "\u001b[1m> Finished chain.\u001b[0m\n"
     ]
    }
   ],
   "source": [
    "res = agent_executor.invoke({\"input\": \"What is the best shoes I can find on Amazon?\"})"
   ]
  },
  {
   "cell_type": "code",
   "execution_count": 6,
   "id": "0fc903eb-2eb8-4e8e-819f-90c9c7216600",
   "metadata": {},
   "outputs": [
    {
     "name": "stdout",
     "output_type": "stream",
     "text": [
      "\n",
      "\n",
      "\u001b[1m> Entering new AgentExecutor chain...\u001b[0m\n",
      "\u001b[32;1m\u001b[1;3mI need to find the current weather information for Toronto. Since this is a general knowledge question, I will perform a web search to get the latest weather updates.  \n",
      "Action: search_tavily  \n",
      "Action Input: \"current weather in Toronto\"  \u001b[0m\u001b[33;1m\u001b[1;3m[{'title': 'Weather in Toronto', 'url': 'https://www.weatherapi.com/', 'content': \"{'location': {'name': 'Toronto', 'region': 'Ontario', 'country': 'Canada', 'lat': 43.6667, 'lon': -79.4167, 'tz_id': 'America/Toronto', 'localtime_epoch': 1742513841, 'localtime': '2025-03-20 19:37'}, 'current': {'last_updated_epoch': 1742513400, 'last_updated': '2025-03-20 19:30', 'temp_c': 3.0, 'temp_f': 37.4, 'is_day': 0, 'condition': {'text': 'Overcast', 'icon': '//cdn.weatherapi.com/weather/64x64/night/122.png', 'code': 1009}, 'wind_mph': 16.1, 'wind_kph': 25.9, 'wind_degree': 313, 'wind_dir': 'NW', 'pressure_mb': 1003.0, 'pressure_in': 29.61, 'precip_mm': 0.0, 'precip_in': 0.0, 'humidity': 75, 'cloud': 100, 'feelslike_c': -2.2, 'feelslike_f': 28.1, 'windchill_c': -1.6, 'windchill_f': 29.2, 'heatindex_c': 3.7, 'heatindex_f': 38.6, 'dewpoint_c': 1.3, 'dewpoint_f': 34.3, 'vis_km': 14.0, 'vis_miles': 8.0, 'uv': 0.0, 'gust_mph': 19.3, 'gust_kph': 31.0}}\", 'score': 0.9135903}, {'title': 'Toronto weather in March 2025 - Weather25.com', 'url': 'https://www.weather25.com/north-america/canada/ontario/toronto?page=month&month=March', 'content': 'Overall on the next 14 days there will be 1 days with snow in Toronto and a total of 0.04 in of snow.\\nIt will be snowy on the following days:\\nThursday, 20 March - 0.04 in\\nThe average weather in Toronto in March\\nThe weather in Toronto in March is very cold with temperatures between 28°F and 39°F, warm clothes are a must.\\nYou can expect about 3 to 8 days of rain in Toronto during the month of March. It’s a good idea to bring along your umbrella so that you don’t get caught in poor weather. [...] | Sun | Mon | Tue | Wed | Thu | Fri | Sat |\\n| --- | --- | --- | --- | --- | --- | --- |\\n| \\n | \\n| \\n| \\n| \\n| \\n| 1  35° /23° |\\n| 2  33° /24° | 3  33° /24° | 4  35° /28° | 5  39° /30° | 6  39° /30° | 7  35° /26° | 8  37° /26° |\\n| 9  41° /33° | 10  41° /32° | 11  39° /30° | 12  37° /28° | 13  41° /30° | 14  42° /26° | 15  42° /35° |\\n| 16  53° /41° | 17  42° /30° | 18  53° /35° | 19  53° /41° | 20  46° /32° | 21  26° /24° | 22  33° /24° | [...] Toronto is going to experience quite a number of days of snow during March. It’s the perfect time to build snowmen, drink hot cocoa, and have a snowball fight. Just remember to wear a warm scarf and a pair of mittens!\\nOur weather forecast can give you a great sense of what weather to expect in Toronto in March 2025.\\nIf you’re planning to visit Toronto in the near future, we highly recommend that you review the 14 day weather forecast for Toronto before you arrive.', 'score': 0.816687093729373, 'raw_content': 'Toronto weather in March 2025 | Toronto 14 day weather\\n\\nUnited States England Australia Canada\\n°F  °C\\n\\nToronto \\nWeather in March 2025\\n\\nOverview\\n14 Days\\nMarch\\nApril\\nLong range\\nToday\\nTomorrow\\n\\n \\n\\n\\nHome\\nNorth America\\nCanada\\nOntario\\nToronto\\nMarch\\n\\nLocation was added to My Locations\\nLocation was removed from My Locations\\nFebruary\\nApril\\nToronto weather in March 2025\\nClick on a day for an hourly weather forecast\\nFriday Mar 14  0 in 42° / 26°Saturday Mar 15  0.65 in 42° / 35°Sunday Mar 16  2.3 in 53° / 41°Monday Mar 17  0 in 42° / 30°Tuesday Mar 18  0 in 53° / 35°Wednesday Mar 19  0 in 53° / 41°Thursday Mar 20  0.04 in 46° / 32°Friday Mar 21  0 in 26° / 24°Saturday Mar 22  0.03 in 33° / 24°Sunday Mar 23  0 in 46° / 32°Monday Mar 24  0.6 in 41° / 37°Tuesday Mar 25  0.93 in 35° / 32°Wednesday Mar 26  0 in 41° / 30°Thursday Mar 27  0 in 48° / 33°Next Month >>\\n🌨️ Snowy days in Toronto 2025 (March)\\nOverall on the next 14 days there will be 1 days with snow in Toronto and a total of 0.04 in of snow.\\nIt will be snowy on the following days:\\nThursday, 20 March - 0.04 in\\nThe average weather in Toronto in March\\nThe weather in Toronto in March is very cold with temperatures between 28°F and 39°F, warm clothes are a must.\\nYou can expect about 3 to 8 days of rain in Toronto during the month of March. It’s a good idea to bring along your umbrella so that you don’t get caught in poor weather.\\nToronto is going to experience quite a number of days of snow during March. It’s the perfect time to build snowmen, drink hot cocoa, and have a snowball fight. Just remember to wear a warm scarf and a pair of mittens!\\nOur weather forecast can give you a great sense of what weather to expect in Toronto in March 2025.\\nIf you’re planning to visit Toronto in the near future, we highly recommend that you review the 14 day weather forecast for Toronto before you arrive.\\n\\nTemperatures\\n39° / 28°\\n\\nRainy Days\\n7\\n\\nSnowy Days\\n9\\n\\nDry Days\\n15\\n\\nRainfall\\n2.48\\nin\\n\\nSun Hours\\n7.6\\nHrs\\nHistoric average weather for March\\n\\nMarch\\n\\n| Sun | Mon | Tue | Wed | Thu | Fri | Sat |\\n| --- | --- | --- | --- | --- | --- | --- |\\n| \\n | \\n| \\n| \\n| \\n| \\n| 1  35° /23° |\\n| 2  33° /24° | 3  33° /24° | 4  35° /28° | 5  39° /30° | 6  39° /30° | 7  35° /26° | 8  37° /26° |\\n| 9  41° /33° | 10  41° /32° | 11  39° /30° | 12  37° /28° | 13  41° /30° | 14  42° /26° | 15  42° /35° |\\n| 16  53° /41° | 17  42° /30° | 18  53° /35° | 19  53° /41° | 20  46° /32° | 21  26° /24° | 22  33° /24° |\\n| 23  46° /32° | 24  41° /37° | 25  35° /32° | 26  41° /30° | 27  48° /33° | 28  41° /32° | 29  46° /28° |\\n| 30  44° /33° | 31  44° /33° | \\n| \\n| \\n| \\n| \\n|\\nClick on a day for an hourly weather forecast\\nExplore the weather in Toronto in other months\\n01 January02 February03 March04 April05 May06 June07 July08 August09 September10 October11 November12 December\\nToronto annual weather\\n| Month | Temperatures | Rainy Days | Dry Days | Snowy Days | Rainfall | Weather | More details |\\n| --- | --- | --- | --- | --- | --- | --- | --- |\\n| January | 28° / 19° | 6 | 9 | 17 | 2.13 in | \\nAwful\\n| Toronto in January |\\n| February | 28° / 19° | 5 | 8 | 15 | 1.81 in | \\nAwful\\n| Toronto in February |\\n| March | 39° / 28° | 7 | 15 | 9 | 2.48 in | \\nAwful\\n| Toronto in March |\\n| April | 48° / 37° | 8 | 18 | 4 | 3.23 in | \\nAwful\\n| Toronto in April |\\n| May | 60° / 48° | 7 | 24 | 0 | 3.94 in | \\nOk\\n| Toronto in May |\\n| June | 69° / 57° | 7 | 23 | 0 | 4.72 in | \\nOk\\n| Toronto in June |\\n| July | 77° / 66° | 7 | 24 | 0 | 5.04 in | \\nGood\\n| Toronto in July |\\n| August | 77° / 66° | 5 | 26 | 0 | 4.49 in | \\nPerfect\\n| Toronto in August |\\n| September | 71° / 59° | 5 | 25 | 0 | 2.91 in | \\nGood\\n| Toronto in September |\\n| October | 59° / 48° | 7 | 23 | 0 | 3.46 in | \\nOk\\n| Toronto in October |\\n| November | 46° / 37° | 5 | 19 | 5 | 1.97 in | \\nBad\\n| Toronto in November |\\n| December | 35° / 28° | 7 | 11 | 13 | 2.05 in | \\nAwful\\n| Toronto in December |\\nTemperatures in Toronto in March\\nRain in Toronto in March\\nRecommended Hotels in Toronto\\nWe know that finding the ideal hotel in Toronto can be a hard task...\\nThat’s why we run our special tools and found the best hotels in Toronto. Click on hotel for more details.\\nHotels in Toronto\\n  Four Seasons Hotel Toronto at Yorkville Book Now  Shangri-La Toronto Book Now  The Ritz-Carlton, Toronto Book Now\\nWeather in Toronto in March - FAQ\\nWhat is the average temperature in Toronto in March?\\nThe average temperature in Toronto in March is 28/39° F.\\nWhat is the chance of rain in Toronto in March?\\nOn average, there are 7 rainy days in Toronto during March.\\nWeather wise, is March a good time to visit Toronto?\\nThe weather in Toronto in March is awful.\\nCan it snow in Toronto in March?\\nOn average, there are 9 snowy days in Toronto in March.\\nMore about the weather in Toronto\\nToronto 14 day weather Long range weather for Toronto Toronto weather in April Toronto Webcam Weather tomorrow Hotels in Toronto\\n\\nToronto weather data is sourced from official meteorological authorities worldwide, ensuring accuracy and reliability.\\nPopular Cities\\n› New York › London › Sydney › Singapore\\nWeather25.com\\n› Terms and conditions › Privacy Policy › Contact\\nCopyright © 2025, weather25.com'}, {'title': 'Toronto weather in March 2025 - Weather25.com', 'url': 'https://www.weather25.com/north-america/canada/ontario/toronto?page=month&month=March', 'content': 'Overall on the next 14 days there will be 1 days with snow in Toronto and a total of 0.04 in of snow.\\nIt will be snowy on the following days:\\nThursday, 20 March - 0.04 in\\nThe average weather in Toronto in March\\nThe weather in Toronto in March is very cold with temperatures between 28°F and 39°F, warm clothes are a must.\\nYou can expect about 3 to 8 days of rain in Toronto during the month of March. It’s a good idea to bring along your umbrella so that you don’t get caught in poor weather. [...] | Sun | Mon | Tue | Wed | Thu | Fri | Sat |\\n| --- | --- | --- | --- | --- | --- | --- |\\n| \\n | \\n| \\n| \\n| \\n| \\n| 1  35° /23° |\\n| 2  33° /24° | 3  33° /24° | 4  35° /28° | 5  39° /30° | 6  39° /30° | 7  35° /26° | 8  37° /26° |\\n| 9  41° /33° | 10  41° /32° | 11  39° /30° | 12  37° /28° | 13  41° /30° | 14  42° /26° | 15  42° /35° |\\n| 16  53° /41° | 17  42° /30° | 18  53° /35° | 19  53° /41° | 20  46° /32° | 21  26° /24° | 22  33° /24° | [...] Toronto is going to experience quite a number of days of snow during March. It’s the perfect time to build snowmen, drink hot cocoa, and have a snowball fight. Just remember to wear a warm scarf and a pair of mittens!\\nOur weather forecast can give you a great sense of what weather to expect in Toronto in March 2025.\\nIf you’re planning to visit Toronto in the near future, we highly recommend that you review the 14 day weather forecast for Toronto before you arrive.', 'score': 0.816687093729373, 'raw_content': 'Toronto weather in March 2025 | Toronto 14 day weather\\n\\nUnited States England Australia Canada\\n°F  °C\\n\\nToronto \\nWeather in March 2025\\n\\nOverview\\n14 Days\\nMarch\\nApril\\nLong range\\nToday\\nTomorrow\\n\\n \\n\\n\\nHome\\nNorth America\\nCanada\\nOntario\\nToronto\\nMarch\\n\\nLocation was added to My Locations\\nLocation was removed from My Locations\\nFebruary\\nApril\\nToronto weather in March 2025\\nClick on a day for an hourly weather forecast\\nFriday Mar 14  0 in 42° / 26°Saturday Mar 15  0.65 in 42° / 35°Sunday Mar 16  2.3 in 53° / 41°Monday Mar 17  0 in 42° / 30°Tuesday Mar 18  0 in 53° / 35°Wednesday Mar 19  0 in 53° / 41°Thursday Mar 20  0.04 in 46° / 32°Friday Mar 21  0 in 26° / 24°Saturday Mar 22  0.03 in 33° / 24°Sunday Mar 23  0 in 46° / 32°Monday Mar 24  0.6 in 41° / 37°Tuesday Mar 25  0.93 in 35° / 32°Wednesday Mar 26  0 in 41° / 30°Thursday Mar 27  0 in 48° / 33°Next Month >>\\n🌨️ Snowy days in Toronto 2025 (March)\\nOverall on the next 14 days there will be 1 days with snow in Toronto and a total of 0.04 in of snow.\\nIt will be snowy on the following days:\\nThursday, 20 March - 0.04 in\\nThe average weather in Toronto in March\\nThe weather in Toronto in March is very cold with temperatures between 28°F and 39°F, warm clothes are a must.\\nYou can expect about 3 to 8 days of rain in Toronto during the month of March. It’s a good idea to bring along your umbrella so that you don’t get caught in poor weather.\\nToronto is going to experience quite a number of days of snow during March. It’s the perfect time to build snowmen, drink hot cocoa, and have a snowball fight. Just remember to wear a warm scarf and a pair of mittens!\\nOur weather forecast can give you a great sense of what weather to expect in Toronto in March 2025.\\nIf you’re planning to visit Toronto in the near future, we highly recommend that you review the 14 day weather forecast for Toronto before you arrive.\\n\\nTemperatures\\n39° / 28°\\n\\nRainy Days\\n7\\n\\nSnowy Days\\n9\\n\\nDry Days\\n15\\n\\nRainfall\\n2.48\\nin\\n\\nSun Hours\\n7.6\\nHrs\\nHistoric average weather for March\\n\\nMarch\\n\\n| Sun | Mon | Tue | Wed | Thu | Fri | Sat |\\n| --- | --- | --- | --- | --- | --- | --- |\\n| \\n | \\n| \\n| \\n| \\n| \\n| 1  35° /23° |\\n| 2  33° /24° | 3  33° /24° | 4  35° /28° | 5  39° /30° | 6  39° /30° | 7  35° /26° | 8  37° /26° |\\n| 9  41° /33° | 10  41° /32° | 11  39° /30° | 12  37° /28° | 13  41° /30° | 14  42° /26° | 15  42° /35° |\\n| 16  53° /41° | 17  42° /30° | 18  53° /35° | 19  53° /41° | 20  46° /32° | 21  26° /24° | 22  33° /24° |\\n| 23  46° /32° | 24  41° /37° | 25  35° /32° | 26  41° /30° | 27  48° /33° | 28  41° /32° | 29  46° /28° |\\n| 30  44° /33° | 31  44° /33° | \\n| \\n| \\n| \\n| \\n|\\nClick on a day for an hourly weather forecast\\nExplore the weather in Toronto in other months\\n01 January02 February03 March04 April05 May06 June07 July08 August09 September10 October11 November12 December\\nToronto annual weather\\n| Month | Temperatures | Rainy Days | Dry Days | Snowy Days | Rainfall | Weather | More details |\\n| --- | --- | --- | --- | --- | --- | --- | --- |\\n| January | 28° / 19° | 6 | 9 | 17 | 2.13 in | \\nAwful\\n| Toronto in January |\\n| February | 28° / 19° | 5 | 8 | 15 | 1.81 in | \\nAwful\\n| Toronto in February |\\n| March | 39° / 28° | 7 | 15 | 9 | 2.48 in | \\nAwful\\n| Toronto in March |\\n| April | 48° / 37° | 8 | 18 | 4 | 3.23 in | \\nAwful\\n| Toronto in April |\\n| May | 60° / 48° | 7 | 24 | 0 | 3.94 in | \\nOk\\n| Toronto in May |\\n| June | 69° / 57° | 7 | 23 | 0 | 4.72 in | \\nOk\\n| Toronto in June |\\n| July | 77° / 66° | 7 | 24 | 0 | 5.04 in | \\nGood\\n| Toronto in July |\\n| August | 77° / 66° | 5 | 26 | 0 | 4.49 in | \\nPerfect\\n| Toronto in August |\\n| September | 71° / 59° | 5 | 25 | 0 | 2.91 in | \\nGood\\n| Toronto in September |\\n| October | 59° / 48° | 7 | 23 | 0 | 3.46 in | \\nOk\\n| Toronto in October |\\n| November | 46° / 37° | 5 | 19 | 5 | 1.97 in | \\nBad\\n| Toronto in November |\\n| December | 35° / 28° | 7 | 11 | 13 | 2.05 in | \\nAwful\\n| Toronto in December |\\nTemperatures in Toronto in March\\nRain in Toronto in March\\nRecommended Hotels in Toronto\\nWe know that finding the ideal hotel in Toronto can be a hard task...\\nThat’s why we run our special tools and found the best hotels in Toronto. Click on hotel for more details.\\nHotels in Toronto\\n  Four Seasons Hotel Toronto at Yorkville Book Now  Shangri-La Toronto Book Now  The Ritz-Carlton, Toronto Book Now\\nWeather in Toronto in March - FAQ\\nWhat is the average temperature in Toronto in March?\\nThe average temperature in Toronto in March is 28/39° F.\\nWhat is the chance of rain in Toronto in March?\\nOn average, there are 7 rainy days in Toronto during March.\\nWeather wise, is March a good time to visit Toronto?\\nThe weather in Toronto in March is awful.\\nCan it snow in Toronto in March?\\nOn average, there are 9 snowy days in Toronto in March.\\nMore about the weather in Toronto\\nToronto 14 day weather Long range weather for Toronto Toronto weather in April Toronto Webcam Weather tomorrow Hotels in Toronto\\n\\nToronto weather data is sourced from official meteorological authorities worldwide, ensuring accuracy and reliability.\\nPopular Cities\\n› New York › London › Sydney › Singapore\\nWeather25.com\\n› Terms and conditions › Privacy Policy › Contact\\nCopyright © 2025, weather25.com'}, {'title': 'Weather in Toronto in March 2025 (Ontario)', 'url': 'https://world-weather.info/forecast/canada/toronto/march-2025/', 'content': \"2 +21°+12°\\n3 +34°+21°\\n4 +43°+34°\\n5 +46°+45°\\n6 +30°+41°\\n7 +36°+32°\\n8 +32°+32°\\n9 +41°+32°\\n10 +46°+45°\\n11 +50°+45°\\n12 +36°+30°\\n13 +43°+34°\\n14 +50°+37°\\n15 +54°+50°\\n16 +59°+52°\\n17 +39°+36°\\n18 +50°+37°\\n19 +57°+45°\\n20 +52°+54°\\n21 +41°+34°\\n22 +50°+41°\\n23 +43°+39°\\n24 +46°+37°\\n25 +39°+39°\\n26 +45°+36°\\n27 +46°+41°\\n28 +34°+34°\\n29 +34°+32°\\n30 +34°+30°\\n31 +45°+32° [...] Weather in Toronto in March 2025 (Ontario) - Detailed Weather Forecast for a Month\\n\\nAdd the current city\\nSearch\\n\\nWeather\\nArchive\\nWidgets\\n\\n°F\\n\\nWorld\\nCanada\\nOntario\\nWeather in Toronto\\n\\nWeather in Toronto in March 2025\\nToronto Weather Forecast for March 2025 is based on long term prognosis and previous years' statistical data.\\n201520162017201820192020202120222023202420252026\\nJanFebMarAprMayJunJulAugSepOctNovDec\\nMarch\\nStart Week On\\nSunday\\nMonday\\n\\nSun\\nMon\\nTue\\nWed\\nThu\\nFri\\n\\nSat\\n\\n\\n1 +19°+41° [...] Extended weather forecast in Toronto\\nHourlyWeek10-Day14-Day30-DayYear\\nWeather in large and nearby cities\\nWeather in Ottawa+46°\\nWhitby+39°\\nBurlington+39°\\nOshawa+39°\\nOrangeville+27°\\nSt. Catharines+43°\\nGeorgina+39°\\nHamilton+39°\\nGuelph+34°\\nHalton Hills+36°\\nCaledon+36°\\nNewmarket+36°\\nRichmond Hill+37°\\nMarkham+39°\\nMississauga+39°\\nBrampton+37°\\nLakefield+34°\\nBarnesdale+43°\\nMinimum and maximum\\nworld's temperature today\\nRussia\\nOymyakon\\nday\\n-9°F\\nnight\\n-47°F\\nMali\\nDjenné\\nday\\n+111°F\\nnight\\n+88°F\\nServices\", 'score': 0.799231482458746, 'raw_content': \"Weather in Toronto in March 2025 (Ontario) - Detailed Weather Forecast for a Month\\n\\nAdd the current city\\nSearch\\n\\nWeather\\nArchive\\nWidgets\\n\\n°F\\n\\nWorld\\nCanada\\nOntario\\nWeather in Toronto\\n\\nWeather in Toronto in March 2025\\nToronto Weather Forecast for March 2025 is based on long term prognosis and previous years' statistical data.\\n201520162017201820192020202120222023202420252026\\nJanFebMarAprMayJunJulAugSepOctNovDec\\nMarch\\nStart Week On\\nSunday\\nMonday\\n\\nSun\\nMon\\nTue\\nWed\\nThu\\nFri\\n\\nSat\\n\\n\\n1 +19°+41°\\n\\n2 +21°+12°\\n3 +34°+21°\\n4 +43°+34°\\n5 +46°+45°\\n6 +30°+41°\\n7 +36°+32°\\n8 +32°+32°\\n9 +41°+32°\\n10 +46°+45°\\n11 +50°+45°\\n12 +36°+30°\\n13 +43°+34°\\n14 +50°+37°\\n15 +54°+50°\\n16 +59°+52°\\n17 +39°+36°\\n18 +50°+37°\\n19 +57°+45°\\n20 +52°+54°\\n21 +41°+34°\\n22 +50°+41°\\n23 +43°+39°\\n24 +46°+37°\\n25 +39°+39°\\n26 +45°+36°\\n27 +46°+41°\\n28 +34°+34°\\n29 +34°+32°\\n30 +34°+30°\\n31 +45°+32°\\n\\nExtended weather forecast in Toronto\\nHourlyWeek10-Day14-Day30-DayYear\\nWeather in large and nearby cities\\nWeather in Ottawa+46°\\nWhitby+39°\\nBurlington+39°\\nOshawa+39°\\nOrangeville+27°\\nSt. Catharines+43°\\nGeorgina+39°\\nHamilton+39°\\nGuelph+34°\\nHalton Hills+36°\\nCaledon+36°\\nNewmarket+36°\\nRichmond Hill+37°\\nMarkham+39°\\nMississauga+39°\\nBrampton+37°\\nLakefield+34°\\nBarnesdale+43°\\nMinimum and maximum\\nworld's temperature today\\nRussia\\nOymyakon\\nday\\n-9°F\\nnight\\n-47°F\\nMali\\nDjenné\\nday\\n+111°F\\nnight\\n+88°F\\nServices\\nSupport\\n\\nUser agreement\\nFeedback\\nAbout Us\\n\\nSearch\\nCity or place…\\nCopyright © 2025 «World-Weather.info» All rights reserved. Privacy policy\\nTemperature units\\n°F°C\\nIcons\"}, {'title': 'Weather in Toronto in March 2025 (Ontario)', 'url': 'https://world-weather.info/forecast/canada/toronto/march-2025/', 'content': \"2 +21°+12°\\n3 +34°+21°\\n4 +43°+34°\\n5 +46°+45°\\n6 +30°+41°\\n7 +36°+32°\\n8 +32°+32°\\n9 +41°+32°\\n10 +46°+45°\\n11 +50°+45°\\n12 +36°+30°\\n13 +43°+34°\\n14 +50°+37°\\n15 +54°+50°\\n16 +59°+52°\\n17 +39°+36°\\n18 +50°+37°\\n19 +57°+45°\\n20 +52°+54°\\n21 +41°+34°\\n22 +50°+41°\\n23 +43°+39°\\n24 +46°+37°\\n25 +39°+39°\\n26 +45°+36°\\n27 +46°+41°\\n28 +34°+34°\\n29 +34°+32°\\n30 +34°+30°\\n31 +45°+32° [...] Weather in Toronto in March 2025 (Ontario) - Detailed Weather Forecast for a Month\\n\\nAdd the current city\\nSearch\\n\\nWeather\\nArchive\\nWidgets\\n\\n°F\\n\\nWorld\\nCanada\\nOntario\\nWeather in Toronto\\n\\nWeather in Toronto in March 2025\\nToronto Weather Forecast for March 2025 is based on long term prognosis and previous years' statistical data.\\n201520162017201820192020202120222023202420252026\\nJanFebMarAprMayJunJulAugSepOctNovDec\\nMarch\\nStart Week On\\nSunday\\nMonday\\n\\nSun\\nMon\\nTue\\nWed\\nThu\\nFri\\n\\nSat\\n\\n\\n1 +19°+41° [...] Extended weather forecast in Toronto\\nHourlyWeek10-Day14-Day30-DayYear\\nWeather in large and nearby cities\\nWeather in Ottawa+46°\\nWhitby+39°\\nBurlington+39°\\nOshawa+39°\\nOrangeville+27°\\nSt. Catharines+43°\\nGeorgina+39°\\nHamilton+39°\\nGuelph+34°\\nHalton Hills+36°\\nCaledon+36°\\nNewmarket+36°\\nRichmond Hill+37°\\nMarkham+39°\\nMississauga+39°\\nBrampton+37°\\nLakefield+34°\\nBarnesdale+43°\\nMinimum and maximum\\nworld's temperature today\\nRussia\\nOymyakon\\nday\\n-9°F\\nnight\\n-47°F\\nMali\\nDjenné\\nday\\n+111°F\\nnight\\n+88°F\\nServices\", 'score': 0.799231482458746, 'raw_content': \"Weather in Toronto in March 2025 (Ontario) - Detailed Weather Forecast for a Month\\n\\nAdd the current city\\nSearch\\n\\nWeather\\nArchive\\nWidgets\\n\\n°F\\n\\nWorld\\nCanada\\nOntario\\nWeather in Toronto\\n\\nWeather in Toronto in March 2025\\nToronto Weather Forecast for March 2025 is based on long term prognosis and previous years' statistical data.\\n201520162017201820192020202120222023202420252026\\nJanFebMarAprMayJunJulAugSepOctNovDec\\nMarch\\nStart Week On\\nSunday\\nMonday\\n\\nSun\\nMon\\nTue\\nWed\\nThu\\nFri\\n\\nSat\\n\\n\\n1 +19°+41°\\n\\n2 +21°+12°\\n3 +34°+21°\\n4 +43°+34°\\n5 +46°+45°\\n6 +30°+41°\\n7 +36°+32°\\n8 +32°+32°\\n9 +41°+32°\\n10 +46°+45°\\n11 +50°+45°\\n12 +36°+30°\\n13 +43°+34°\\n14 +50°+37°\\n15 +54°+50°\\n16 +59°+52°\\n17 +39°+36°\\n18 +50°+37°\\n19 +57°+45°\\n20 +52°+54°\\n21 +41°+34°\\n22 +50°+41°\\n23 +43°+39°\\n24 +46°+37°\\n25 +39°+39°\\n26 +45°+36°\\n27 +46°+41°\\n28 +34°+34°\\n29 +34°+32°\\n30 +34°+30°\\n31 +45°+32°\\n\\nExtended weather forecast in Toronto\\nHourlyWeek10-Day14-Day30-DayYear\\nWeather in large and nearby cities\\nWeather in Ottawa+46°\\nWhitby+39°\\nBurlington+39°\\nOshawa+39°\\nOrangeville+27°\\nSt. Catharines+43°\\nGeorgina+39°\\nHamilton+39°\\nGuelph+34°\\nHalton Hills+36°\\nCaledon+36°\\nNewmarket+36°\\nRichmond Hill+37°\\nMarkham+39°\\nMississauga+39°\\nBrampton+37°\\nLakefield+34°\\nBarnesdale+43°\\nMinimum and maximum\\nworld's temperature today\\nRussia\\nOymyakon\\nday\\n-9°F\\nnight\\n-47°F\\nMali\\nDjenné\\nday\\n+111°F\\nnight\\n+88°F\\nServices\\nSupport\\n\\nUser agreement\\nFeedback\\nAbout Us\\n\\nSearch\\nCity or place…\\nCopyright © 2025 «World-Weather.info» All rights reserved. Privacy policy\\nTemperature units\\n°F°C\\nIcons\"}, {'title': 'Weather Forecast and Conditions for Downtown Toronto, Ontario, Canada ...', 'url': 'https://weather.com/weather/today/l/2fbf3e476dabec4fe0459a11daf5daf5bc89ca2fb7a767af4270e1156e91b579', 'content': \"My DashboardNEWTodayHourly10 DayWeekendMonthlyRadarAftermath\\nMore ForecastsMore\\nSpecialty Forecasts\\nYesterday's WeatherAllergy TrackerCold & FluAir Quality Forecast\\nAdvertisement\\nDowntown Toronto, Ontario, Canada\\nAs of 3:40 pm EST\\n42°\\nCloudy\\nDay\\xa042° • Night\\xa034°\\nSpecial Weather Statement -------------------------\\nNow4:25 pm4:55 pm5:25 pm5:55 pm6:25 pm6:55 pm7:25 pm7:55 pm8:25 pm8:55 pm9:25 pm9:55 pm\\n© 2025 Mapbox\\xa0© OpenStreetMap|Improve this map\\nRain\\nRain expected around 4:30 PM.\", 'score': 0.7375880792079208, 'raw_content': \"Weather Forecast and Conditions for Downtown Toronto, Ontario, Canada - The Weather Channel | Weather.com\\nAdvertisement\\nAdvertisement\\nSkip to Main ContentAccessibility Help\\nType at least three characters to start auto complete. Recently searched locations will be displayed if there is no search query. The first option will be automatically selected. Use up and down arrows to change selection. Use escape to clear.Search City or Zip Code\\nrecents\\nClear All\\nYou have no recent locations\\nUS°F\\n\\n°F\\n°C\\nHybrid\\n\\nImperial - F / mph / miles / inches\\nAmericas\\nAntigua and Barbuda | EnglishArgentina | EspañolBahamas | EnglishBarbados | EnglishBelize | EnglishBolivia | EspañolBrazil | PortuguêsCanada | EnglishCanada | FrançaisChile | EspañolColombia | EspañolCosta Rica | EspañolDominica | EnglishDominican Republic | EspañolEcuador | EspañolEl Salvador | EspañolGrenada | EnglishGuatemala | EspañolGuyana | EnglishHaiti | FrançaisHonduras | EspañolJamaica | EnglishMexico | EspañolNicaragua | EspañolPanama | EspañolPanama | EnglishParaguay | EspañolPeru | EspañolSt. Kitts and Nevis | EnglishSt. Lucia | EnglishSt. Vincent and the Grenadines | EnglishSuriname | NederlandsTrinidad and Tobago | EnglishUruguay | EspañolUnited States | EnglishUnited States | EspañolVenezuela | Español\\nAfrica\\nAlgeria | العربيةAlgeria | FrançaisAngola | PortuguêsBenin | FrançaisBurkina Faso | FrançaisBurundi | FrançaisCameroon | FrançaisCameroon | EnglishCape Verde | PortuguêsCentral African Republic | FrançaisChad | FrançaisChad | العربيةComoros | FrançaisComoros | العربيةDemocratic Republic of the Congo | FrançaisRepublic of Congo | FrançaisCôte d'Ivoire | FrançaisDjibouti | FrançaisDjibouti | العربيةEgypt | العربيةEquatorial Guinea | EspañolEritrea | العربيةGabon | FrançaisGambia | EnglishGhana | EnglishGuinea | FrançaisGuinea-Bissau | PortuguêsKenya | EnglishLesotho | EnglishLiberia | EnglishLibya | العربيةMadagascar | FrançaisMali | FrançaisMauritania | العربيةMauritius | EnglishMauritius | FrançaisMorocco | العربيةMorocco | FrançaisMozambique | PortuguêsNamibia | EnglishNiger | FrançaisNigeria | EnglishRwanda | FrançaisRwanda | EnglishSao Tome and Principe | PortuguêsSenegal | FrançaisSierra Leone | EnglishSomalia | العربيةSouth Africa | EnglishSouth Sudan | EnglishSudan | العربيةSwaziland | EnglishTanzania | EnglishTogo | FrançaisTunisia | العربيةUganda | English\\nAsia Pacific\\nAustralia | EnglishBangladesh | বাংলাBrunei | Bahasa MelayuChina | 中文Hong Kong SAR | 中文East Timor | PortuguêsFiji | EnglishIndia (English) | EnglishIndia (Hindi) | हिन्दीIndonesia | Bahasa IndonesiaJapan | 日本語Kiribati | EnglishSouth Korea | 한국어Kyrgyzstan | РусскийMalaysia | Bahasa MelayuMarshall Islands | EnglishMicronesia | EnglishNew Zealand | EnglishPalau | EnglishPhilippines | EnglishPhilippines | TagalogSamoa | EnglishSingapore | EnglishSingapore | 中文Solomon Islands | EnglishTaiwan | 中文Thailand | ไทยTonga | EnglishTuvalu | EnglishVanuatu | EnglishVanuatu | FrançaisVietnam | Tiếng Việt\\nEurope\\nAndorra | CatalàAndorra | FrançaisAustria | DeutschBelarus | РусскийBelgium | DutchBelgium | FrançaisBosnia and Herzegovina | HrvatskiCroatia | HrvatskiCyprus | ΕλληνικάCzech Republic | ČeštinaDenmark | DanskEstonia | РусскийEstonia | EestiFinland | SuomiFrance | FrançaisGermany | DeutschGreece | ΕλληνικάHungary | MagyarIreland | EnglishItaly | ItalianoLiechtenstein | DeutschLuxembourg | FrançaisMalta | EnglishMonaco | FrançaisNetherlands | NederlandsNorway | NorskPoland | PolskiPortugal | PortuguêsRomania | RomânăRussia | РусскийSan Marino | ItalianoSlovakia | SlovenčinaSpain | EspañolSpain | CatalàSweden | SvenskaSwitzerland | DeutschTurkey | TurkçeUkraine | УкраїнськаUnited Kingdom | EnglishState of Vatican City (Holy See) | Italiano\\nMiddle East\\nBahrain | العربيةIran | فارسىIraq | العربيةIsrael | עִבְרִיתJordan | العربيةKuwait | العربيةLebanon | العربيةOman | العربيةPakistan | اردوPakistan | EnglishQatar | العربيةSaudi Arabia | العربيةSyria | العربيةUnited Arab Emirates | العربية\\nWeather Forecasts\\nMy DashboardNEWTodayHourly10 DayWeekendMonthly & AlmanacYesterday\\nRadar & Maps\\nInteractive Radar MapUS ForecastUS Satellite & RadarWorld SatelliteUS Severe AlertsUS Health\\nNews & Media\\nTop Weather StoriesHurricane CentralScience & EnvironmentSpace & SkywatchingSafety & PrepVideosBios\\nProducts\\nAlexa SkillWeather UndergroundStorm Radar\\nHealth & Wellness\\nHealthEczemaPsoriasisDiabetesHealthy LivingAllergy TrackerAir Quality IndexCold & Flu TrackerSkin Health\\nAccount\\nCreate An AccountLog In\\nLifestyle\\nAtmosphere ReviewsRecipesHome & GardenTravel & OutdoorsPets & AnimalsGames\\nPrivacy\\nPrivacy SettingsData RightsPrivacy PolicyCookie Notice\\n42°Downtown Toronto, Ontario, Canada\\nMy DashboardNEWTodayHourly10 DayWeekendMonthlyRadarAftermath\\nMore ForecastsMore\\nSpecialty Forecasts\\nYesterday's WeatherAllergy TrackerCold & FluAir Quality Forecast\\nAdvertisement\\nDowntown Toronto, Ontario, Canada\\nAs of 3:40 pm EST\\n42°\\nCloudy\\nDay\\xa042° • Night\\xa034°\\nSpecial Weather Statement -------------------------\\nNow4:25 pm4:55 pm5:25 pm5:55 pm6:25 pm6:55 pm7:25 pm7:55 pm8:25 pm8:55 pm9:25 pm9:55 pm\\n© 2025 Mapbox\\xa0© OpenStreetMap|Improve this map\\nRain\\nRain expected around 4:30 PM.\\n\\nAdvertisement\\nDon't Miss\\n Severe Weather Packs Threats For Southeast, Mid-Atlantic\\n Multi-Car Pileups Shut Down Interstates\\n Winter Storm Lola To Bring Threat Of Blizzard Conditions\\n Another Cross-Country Storm Is Moving East\\nSee More\\nTrending Now\\n Close Call: Driver Barely Dodges Snowy Roof Collapse\\n Fierce Winds, Heavy Snow Shut Down Nebraska Highways\\n This Is How Workers Clear Feet Of Snow From Yellowstone\\n Drivers Blinded By Dust As Haboob Sweeps Through New Mexico\\nSee More\\nAdvertisement\\nAdvertisement\\nToday's Forecast for Downtown Toronto, Ontario, Canada\\n\\n### Morning 40° --\\n### Afternoon 43° Chance of Rain68%\\n### Evening 41° Chance of Rain57%\\n### Overnight 38° Chance of Rain19%\\n\\nNext 48 Hours\\nWeather Today in Downtown Toronto, Ontario, Canada\\nFeels Like38°\\n6:46 am\\n6:11 pm\\nHigh / Low\\n--/34°\\nWind\\n8\\xa0mph\\nHumidity\\n94%\\nDew Point\\n41°\\nPressure\\n29.20\\xa0in\\nUV Index\\n0 of 11\\nVisibility\\n6 mi\\nMoon Phase\\nWaxing Crescent\\nAdvertisement\\nHourly Forecast\\n\\n### Now 42° Chance of Rain68%\\n### 4 pm 43° Chance of Rain68%\\n### 5 pm 42° Chance of Rain85%\\n### 6 pm 41° Chance of Rain20%\\n### 7 pm 41° Chance of Rain15%\\n\\nNext 48 Hours\\nDaily Forecast\\n\\n### Today --/34° 34° Chance of Rain76%\\n### Thu 06 37°/29° 29° Chance of Rain62%\\n### Fri 07 37°/22° 22° Chance of Rain15%\\n### Sat 08 33°/26° 26° Chance of Rain15%\\n### Sun 09 41°/34° 34° Chance of Rain15%\\n\\nNext 10 Days\\nWinter Central\\n Tornado Tears Apart Homes, Businesses In Ada, Oklahoma\\n From Tornadoes To Dust To Snow, The South Saw It All Tuesday\\n Texas Warehouse Collapses, Buries Cars During Likely Tornado\\n Fierce Winds, Heavy Snow Shut Down Nebraska Highways\\nSee More\\nWinter Wellness\\n How Children Can Improve Their Cold Weather Breathing\\n What’s That Winter Air Burn In My Lungs?\\n Breathe Easier This Winter By Improving Indoor Air Quality\\n How To Deal With Asthma In The Cold\\nSee More\\nAdvertisement\\nAdvertisement\\nAdvertisement\\nAdvertisement\\nAdvertisement\\nNear Miss Caught On Camera\\n Close Call: Driver Barely Dodges Roof Collapse\\nAdvertisement\\nHealth News For You\\n Parenting Through A Natural Disaster: Preparation Is Key\\n Retiree Performs Daring Moves On Floating Ice In China\\n Your Guide To Enjoying The Warm Weather\\n Why Your Home's Air Might Be More Polluted Than Outdoors\\nSee More\\nStay Safe\\n\\nAdvertisement\\nStay Healthy\\n Protect Your Home From Mold This Spring\\nAdvertisement\\nAir Quality Index\\nModerateAir quality is acceptable; however, for some pollutants there may be a moderate health concern for a very small number of people who are unusually sensitive to air pollution.\\nSee Details\\nAdvertisement\\nHealth & Activities\\n### Seasonal Allergies and Pollen Count Forecast No pollen detected in your area\\n \\n\\nFeedback\\nMission\\nCareers\\nNews Room\\nAdvertise With Us\\nTV\\n\\nWeather Data APIs\\n\\n\\nTerms of Use\\n\\nPrivacy Policy\\nCookie Notice\\nAdChoices\\nAccessibility Statement\\nData Vendors\\n\\n\\nWe recognize our responsibility to use data and technology for good. We may use or share your data with our data vendors. Take control of your data.\\n\\nReview All Privacy and Ad Settings\\nChoose how my information is shared\\nData Rights\\n\\nThe Weather Channel is the world's most accurate forecaster according to ForecastWatch, Global and Regional Weather Forecast Accuracy Overview, 2017-2022, commissioned by The Weather Company.\\nWeather Channel\\n© The Weather Company, LLC 2025\"}, {'title': 'Weather Forecast and Conditions for Downtown Toronto, Ontario, Canada ...', 'url': 'https://weather.com/weather/today/l/2fbf3e476dabec4fe0459a11daf5daf5bc89ca2fb7a767af4270e1156e91b579', 'content': \"My DashboardNEWTodayHourly10 DayWeekendMonthlyRadarAftermath\\nMore ForecastsMore\\nSpecialty Forecasts\\nYesterday's WeatherAllergy TrackerCold & FluAir Quality Forecast\\nAdvertisement\\nDowntown Toronto, Ontario, Canada\\nAs of 3:40 pm EST\\n42°\\nCloudy\\nDay\\xa042° • Night\\xa034°\\nSpecial Weather Statement -------------------------\\nNow4:25 pm4:55 pm5:25 pm5:55 pm6:25 pm6:55 pm7:25 pm7:55 pm8:25 pm8:55 pm9:25 pm9:55 pm\\n© 2025 Mapbox\\xa0© OpenStreetMap|Improve this map\\nRain\\nRain expected around 4:30 PM.\", 'score': 0.7375880792079208, 'raw_content': \"Weather Forecast and Conditions for Downtown Toronto, Ontario, Canada - The Weather Channel | Weather.com\\nAdvertisement\\nAdvertisement\\nSkip to Main ContentAccessibility Help\\nType at least three characters to start auto complete. Recently searched locations will be displayed if there is no search query. The first option will be automatically selected. Use up and down arrows to change selection. Use escape to clear.Search City or Zip Code\\nrecents\\nClear All\\nYou have no recent locations\\nUS°F\\n\\n°F\\n°C\\nHybrid\\n\\nImperial - F / mph / miles / inches\\nAmericas\\nAntigua and Barbuda | EnglishArgentina | EspañolBahamas | EnglishBarbados | EnglishBelize | EnglishBolivia | EspañolBrazil | PortuguêsCanada | EnglishCanada | FrançaisChile | EspañolColombia | EspañolCosta Rica | EspañolDominica | EnglishDominican Republic | EspañolEcuador | EspañolEl Salvador | EspañolGrenada | EnglishGuatemala | EspañolGuyana | EnglishHaiti | FrançaisHonduras | EspañolJamaica | EnglishMexico | EspañolNicaragua | EspañolPanama | EspañolPanama | EnglishParaguay | EspañolPeru | EspañolSt. Kitts and Nevis | EnglishSt. Lucia | EnglishSt. Vincent and the Grenadines | EnglishSuriname | NederlandsTrinidad and Tobago | EnglishUruguay | EspañolUnited States | EnglishUnited States | EspañolVenezuela | Español\\nAfrica\\nAlgeria | العربيةAlgeria | FrançaisAngola | PortuguêsBenin | FrançaisBurkina Faso | FrançaisBurundi | FrançaisCameroon | FrançaisCameroon | EnglishCape Verde | PortuguêsCentral African Republic | FrançaisChad | FrançaisChad | العربيةComoros | FrançaisComoros | العربيةDemocratic Republic of the Congo | FrançaisRepublic of Congo | FrançaisCôte d'Ivoire | FrançaisDjibouti | FrançaisDjibouti | العربيةEgypt | العربيةEquatorial Guinea | EspañolEritrea | العربيةGabon | FrançaisGambia | EnglishGhana | EnglishGuinea | FrançaisGuinea-Bissau | PortuguêsKenya | EnglishLesotho | EnglishLiberia | EnglishLibya | العربيةMadagascar | FrançaisMali | FrançaisMauritania | العربيةMauritius | EnglishMauritius | FrançaisMorocco | العربيةMorocco | FrançaisMozambique | PortuguêsNamibia | EnglishNiger | FrançaisNigeria | EnglishRwanda | FrançaisRwanda | EnglishSao Tome and Principe | PortuguêsSenegal | FrançaisSierra Leone | EnglishSomalia | العربيةSouth Africa | EnglishSouth Sudan | EnglishSudan | العربيةSwaziland | EnglishTanzania | EnglishTogo | FrançaisTunisia | العربيةUganda | English\\nAsia Pacific\\nAustralia | EnglishBangladesh | বাংলাBrunei | Bahasa MelayuChina | 中文Hong Kong SAR | 中文East Timor | PortuguêsFiji | EnglishIndia (English) | EnglishIndia (Hindi) | हिन्दीIndonesia | Bahasa IndonesiaJapan | 日本語Kiribati | EnglishSouth Korea | 한국어Kyrgyzstan | РусскийMalaysia | Bahasa MelayuMarshall Islands | EnglishMicronesia | EnglishNew Zealand | EnglishPalau | EnglishPhilippines | EnglishPhilippines | TagalogSamoa | EnglishSingapore | EnglishSingapore | 中文Solomon Islands | EnglishTaiwan | 中文Thailand | ไทยTonga | EnglishTuvalu | EnglishVanuatu | EnglishVanuatu | FrançaisVietnam | Tiếng Việt\\nEurope\\nAndorra | CatalàAndorra | FrançaisAustria | DeutschBelarus | РусскийBelgium | DutchBelgium | FrançaisBosnia and Herzegovina | HrvatskiCroatia | HrvatskiCyprus | ΕλληνικάCzech Republic | ČeštinaDenmark | DanskEstonia | РусскийEstonia | EestiFinland | SuomiFrance | FrançaisGermany | DeutschGreece | ΕλληνικάHungary | MagyarIreland | EnglishItaly | ItalianoLiechtenstein | DeutschLuxembourg | FrançaisMalta | EnglishMonaco | FrançaisNetherlands | NederlandsNorway | NorskPoland | PolskiPortugal | PortuguêsRomania | RomânăRussia | РусскийSan Marino | ItalianoSlovakia | SlovenčinaSpain | EspañolSpain | CatalàSweden | SvenskaSwitzerland | DeutschTurkey | TurkçeUkraine | УкраїнськаUnited Kingdom | EnglishState of Vatican City (Holy See) | Italiano\\nMiddle East\\nBahrain | العربيةIran | فارسىIraq | العربيةIsrael | עִבְרִיתJordan | العربيةKuwait | العربيةLebanon | العربيةOman | العربيةPakistan | اردوPakistan | EnglishQatar | العربيةSaudi Arabia | العربيةSyria | العربيةUnited Arab Emirates | العربية\\nWeather Forecasts\\nMy DashboardNEWTodayHourly10 DayWeekendMonthly & AlmanacYesterday\\nRadar & Maps\\nInteractive Radar MapUS ForecastUS Satellite & RadarWorld SatelliteUS Severe AlertsUS Health\\nNews & Media\\nTop Weather StoriesHurricane CentralScience & EnvironmentSpace & SkywatchingSafety & PrepVideosBios\\nProducts\\nAlexa SkillWeather UndergroundStorm Radar\\nHealth & Wellness\\nHealthEczemaPsoriasisDiabetesHealthy LivingAllergy TrackerAir Quality IndexCold & Flu TrackerSkin Health\\nAccount\\nCreate An AccountLog In\\nLifestyle\\nAtmosphere ReviewsRecipesHome & GardenTravel & OutdoorsPets & AnimalsGames\\nPrivacy\\nPrivacy SettingsData RightsPrivacy PolicyCookie Notice\\n42°Downtown Toronto, Ontario, Canada\\nMy DashboardNEWTodayHourly10 DayWeekendMonthlyRadarAftermath\\nMore ForecastsMore\\nSpecialty Forecasts\\nYesterday's WeatherAllergy TrackerCold & FluAir Quality Forecast\\nAdvertisement\\nDowntown Toronto, Ontario, Canada\\nAs of 3:40 pm EST\\n42°\\nCloudy\\nDay\\xa042° • Night\\xa034°\\nSpecial Weather Statement -------------------------\\nNow4:25 pm4:55 pm5:25 pm5:55 pm6:25 pm6:55 pm7:25 pm7:55 pm8:25 pm8:55 pm9:25 pm9:55 pm\\n© 2025 Mapbox\\xa0© OpenStreetMap|Improve this map\\nRain\\nRain expected around 4:30 PM.\\n\\nAdvertisement\\nDon't Miss\\n Severe Weather Packs Threats For Southeast, Mid-Atlantic\\n Multi-Car Pileups Shut Down Interstates\\n Winter Storm Lola To Bring Threat Of Blizzard Conditions\\n Another Cross-Country Storm Is Moving East\\nSee More\\nTrending Now\\n Close Call: Driver Barely Dodges Snowy Roof Collapse\\n Fierce Winds, Heavy Snow Shut Down Nebraska Highways\\n This Is How Workers Clear Feet Of Snow From Yellowstone\\n Drivers Blinded By Dust As Haboob Sweeps Through New Mexico\\nSee More\\nAdvertisement\\nAdvertisement\\nToday's Forecast for Downtown Toronto, Ontario, Canada\\n\\n### Morning 40° --\\n### Afternoon 43° Chance of Rain68%\\n### Evening 41° Chance of Rain57%\\n### Overnight 38° Chance of Rain19%\\n\\nNext 48 Hours\\nWeather Today in Downtown Toronto, Ontario, Canada\\nFeels Like38°\\n6:46 am\\n6:11 pm\\nHigh / Low\\n--/34°\\nWind\\n8\\xa0mph\\nHumidity\\n94%\\nDew Point\\n41°\\nPressure\\n29.20\\xa0in\\nUV Index\\n0 of 11\\nVisibility\\n6 mi\\nMoon Phase\\nWaxing Crescent\\nAdvertisement\\nHourly Forecast\\n\\n### Now 42° Chance of Rain68%\\n### 4 pm 43° Chance of Rain68%\\n### 5 pm 42° Chance of Rain85%\\n### 6 pm 41° Chance of Rain20%\\n### 7 pm 41° Chance of Rain15%\\n\\nNext 48 Hours\\nDaily Forecast\\n\\n### Today --/34° 34° Chance of Rain76%\\n### Thu 06 37°/29° 29° Chance of Rain62%\\n### Fri 07 37°/22° 22° Chance of Rain15%\\n### Sat 08 33°/26° 26° Chance of Rain15%\\n### Sun 09 41°/34° 34° Chance of Rain15%\\n\\nNext 10 Days\\nWinter Central\\n Tornado Tears Apart Homes, Businesses In Ada, Oklahoma\\n From Tornadoes To Dust To Snow, The South Saw It All Tuesday\\n Texas Warehouse Collapses, Buries Cars During Likely Tornado\\n Fierce Winds, Heavy Snow Shut Down Nebraska Highways\\nSee More\\nWinter Wellness\\n How Children Can Improve Their Cold Weather Breathing\\n What’s That Winter Air Burn In My Lungs?\\n Breathe Easier This Winter By Improving Indoor Air Quality\\n How To Deal With Asthma In The Cold\\nSee More\\nAdvertisement\\nAdvertisement\\nAdvertisement\\nAdvertisement\\nAdvertisement\\nNear Miss Caught On Camera\\n Close Call: Driver Barely Dodges Roof Collapse\\nAdvertisement\\nHealth News For You\\n Parenting Through A Natural Disaster: Preparation Is Key\\n Retiree Performs Daring Moves On Floating Ice In China\\n Your Guide To Enjoying The Warm Weather\\n Why Your Home's Air Might Be More Polluted Than Outdoors\\nSee More\\nStay Safe\\n\\nAdvertisement\\nStay Healthy\\n Protect Your Home From Mold This Spring\\nAdvertisement\\nAir Quality Index\\nModerateAir quality is acceptable; however, for some pollutants there may be a moderate health concern for a very small number of people who are unusually sensitive to air pollution.\\nSee Details\\nAdvertisement\\nHealth & Activities\\n### Seasonal Allergies and Pollen Count Forecast No pollen detected in your area\\n \\n\\nFeedback\\nMission\\nCareers\\nNews Room\\nAdvertise With Us\\nTV\\n\\nWeather Data APIs\\n\\n\\nTerms of Use\\n\\nPrivacy Policy\\nCookie Notice\\nAdChoices\\nAccessibility Statement\\nData Vendors\\n\\n\\nWe recognize our responsibility to use data and technology for good. We may use or share your data with our data vendors. Take control of your data.\\n\\nReview All Privacy and Ad Settings\\nChoose how my information is shared\\nData Rights\\n\\nThe Weather Channel is the world's most accurate forecaster according to ForecastWatch, Global and Regional Weather Forecast Accuracy Overview, 2017-2022, commissioned by The Weather Company.\\nWeather Channel\\n© The Weather Company, LLC 2025\"}, {'title': 'Weather in Toronto, Ontario, Canada - timeanddate.com', 'url': 'https://www.timeanddate.com/weather/canada/toronto', 'content': 'Light snow. Mostly cloudy.  Light snow. Overcast.   Light snow. Cloudy. Light snow. Overcast.   Light snow. Overcast.   Light snow. Overcast.   Mostly cloudy.\\nFeels Like  18\\xa0°F   14\\xa0°F   13\\xa0°F   16\\xa0°F   22\\xa0°F   22\\xa0°F   23\\xa0°F\\nWind Speed  15 mph  14 mph  11 mph  8 mph   10 mph  8 mph   6 mph\\nWind Direction  SW\\n↑   WSW\\n↑   WSW\\n↑   WSW\\n↑   SW\\n↑   SW\\n↑   SSW\\n↑\\nHumidity    64% 76% 79% 81% 77% 84% 83%\\nDew Point   19\\xa0°F   19\\xa0°F   19\\xa0°F   20\\xa0°F   24\\xa0°F   25\\xa0°F   24\\xa0°F [...] Visibility  7\\xa0mi    2\\xa0mi    2\\xa0mi    2\\xa0mi    2\\xa0mi    2\\xa0mi    5\\xa0mi\\nProbability of Precipitation    10% 39% 23% 23% 25% 26% 2%\\nAmount of Snow  0.04\"   0.33\"   0.22\"   0.24\"   0.24\"   0.12\"   -\\n* Updated Saturday, February 22, 2025 8:42:49 am Toronto time - Weather by CustomWeather, © 2025\\n14 day forecast, day-by-day\\nHour-by-hour forecast for next week\\nYesterday\\'s weather\\nPassing clouds. 21 / 10\\xa0°F\\nHumidity: 68%. Wind: 11 mph ↑ from Northwest\\nMore weather last week\\nCurrently at nearby stations', 'score': 0.5828672267326733, 'raw_content': 'Home \\xa0 Weather \\xa0 Canada \\xa0 Toronto\\nWeather in Toronto, Ontario, Canada\\nTime/General\\nWeather\\nTime Zone\\nDST Changes\\nSun & Moon\\nWeather TodayWeather Hourly14 Day ForecastYesterday/Past WeatherClimate (Averages)\\nNow\\n28\\xa0°F\\nScattered clouds.\\nFeels Like: 18\\xa0°F\\nForecast: 30 / 11\\xa0°F\\nWind: 13 mph ↑ from Southwest\\nLocation:   Toronto Pearson International Airport\\nCurrent Time:   Feb 22, 2025 at 2:05:43 pm\\nLatest Report:  Feb 22, 2025 at 1:00 pm\\nVisibility: 15\\xa0mi\\nPressure:   30.14 \"Hg\\nHumidity:   64%\\nDew Point:  18\\xa0°F\\nUpcoming 5 hours\\nNow 3:00 pm 4:00 pm 5:00 pm 6:00 pm 7:00 pm\\n28\\xa0°F   29\\xa0°F   29\\xa0°F   28\\xa0°F   28\\xa0°F   27\\xa0°F\\nSee more hour-by-hour weather\\nForecast for the next 48 hours\\n\\xa0   Saturday    Sunday  Monday\\n\\xa0   Afternoon   Evening Night   Morning Afternoon   Evening Night\\nForecast                          \\nTemperature 29\\xa0°F   26\\xa0°F   24\\xa0°F   25\\xa0°F   31\\xa0°F   29\\xa0°F   29\\xa0°F\\n    Light snow. Mostly cloudy.  Light snow. Overcast.   Light snow. Cloudy. Light snow. Overcast.   Light snow. Overcast.   Light snow. Overcast.   Mostly cloudy.\\nFeels Like  18\\xa0°F   14\\xa0°F   13\\xa0°F   16\\xa0°F   22\\xa0°F   22\\xa0°F   23\\xa0°F\\nWind Speed  15 mph  14 mph  11 mph  8 mph   10 mph  8 mph   6 mph\\nWind Direction  SW\\n↑   WSW\\n↑   WSW\\n↑   WSW\\n↑   SW\\n↑   SW\\n↑   SSW\\n↑\\nHumidity    64% 76% 79% 81% 77% 84% 83%\\nDew Point   19\\xa0°F   19\\xa0°F   19\\xa0°F   20\\xa0°F   24\\xa0°F   25\\xa0°F   24\\xa0°F\\nVisibility  7\\xa0mi    2\\xa0mi    2\\xa0mi    2\\xa0mi    2\\xa0mi    2\\xa0mi    5\\xa0mi\\nProbability of Precipitation    10% 39% 23% 23% 25% 26% 2%\\nAmount of Snow  0.04\"   0.33\"   0.22\"   0.24\"   0.24\"   0.12\"   -\\n* Updated Saturday, February 22, 2025 8:42:49 am Toronto time - Weather by CustomWeather, © 2025\\n14 day forecast, day-by-day\\nHour-by-hour forecast for next week\\nYesterday\\'s weather\\nPassing clouds. 21 / 10\\xa0°F\\nHumidity: 68%. Wind: 11 mph ↑ from Northwest\\nMore weather last week\\nCurrently at nearby stations\\n28\\xa0°F\\nToronto Island Airport: (2\\xa0mi)\\nSunny. (1 hour ago)\\n49\\xa0°F\\nSechelt: (2,112\\xa0mi)\\nCool. (1 hour ago)\\nMore weather in Canada\\nForecast for the next 2 weeks\\nSun Mon Tue Wed Thu Fri Sat\\n16\\n17\\n18\\n19\\n20\\n21\\nView historic weather\\n22\\n30 / 11\\xa0°F\\n23\\n31 / 22\\xa0°F\\n24\\n38 / 28\\xa0°F\\n25\\n38 / 33\\xa0°F\\n26\\n36 / 32\\xa0°F\\n27\\n36 / 21\\xa0°F\\n28\\n25 / 14\\xa0°F\\n1\\n37 / 23\\xa0°F\\n2\\n30 / 24\\xa0°F\\n3\\n24 / 18\\xa0°F\\n4\\n26 / 19\\xa0°F\\n5\\n29 / 19\\xa0°F\\n6\\n31 / 23\\xa0°F\\n7\\n28 / 21\\xa0°F\\n8\\n29 / 19\\xa0°F\\nDetailed forecast for 14 days\\nNeed some help?\\nAdvertising\\nHow was your experience?\\nContact Us \\nLove Our Site? Become a Supporter\\nBrowse our site advert free.\\nSun & Moon times precise to the second.\\nExclusive calendar templates for PDF Calendar.\\n© Time and Date AS 1995–2025\\nCompany\\nAbout us\\nCareers/Jobs\\nContact Us\\nContact Details\\nSitemap\\nNewsletter\\nLegal\\nLink policy\\nAdvertising\\nDisclaimer\\nTerms & Conditions\\nPrivacy Policy\\nMy Privacy\\nServices\\nWorld Clock\\nTime Zones\\nCalendar\\nWeather\\nSun & Moon\\nTimers\\nCalculators\\nAPI\\nApps\\nSites\\ntimeanddate.no\\ntimeanddate.de\\nFollow Us'}, {'title': 'Weather in Toronto, Ontario, Canada - timeanddate.com', 'url': 'https://www.timeanddate.com/weather/canada/toronto', 'content': 'Light snow. Mostly cloudy.  Light snow. Overcast.   Light snow. Cloudy. Light snow. Overcast.   Light snow. Overcast.   Light snow. Overcast.   Mostly cloudy.\\nFeels Like  18\\xa0°F   14\\xa0°F   13\\xa0°F   16\\xa0°F   22\\xa0°F   22\\xa0°F   23\\xa0°F\\nWind Speed  15 mph  14 mph  11 mph  8 mph   10 mph  8 mph   6 mph\\nWind Direction  SW\\n↑   WSW\\n↑   WSW\\n↑   WSW\\n↑   SW\\n↑   SW\\n↑   SSW\\n↑\\nHumidity    64% 76% 79% 81% 77% 84% 83%\\nDew Point   19\\xa0°F   19\\xa0°F   19\\xa0°F   20\\xa0°F   24\\xa0°F   25\\xa0°F   24\\xa0°F [...] Visibility  7\\xa0mi    2\\xa0mi    2\\xa0mi    2\\xa0mi    2\\xa0mi    2\\xa0mi    5\\xa0mi\\nProbability of Precipitation    10% 39% 23% 23% 25% 26% 2%\\nAmount of Snow  0.04\"   0.33\"   0.22\"   0.24\"   0.24\"   0.12\"   -\\n* Updated Saturday, February 22, 2025 8:42:49 am Toronto time - Weather by CustomWeather, © 2025\\n14 day forecast, day-by-day\\nHour-by-hour forecast for next week\\nYesterday\\'s weather\\nPassing clouds. 21 / 10\\xa0°F\\nHumidity: 68%. Wind: 11 mph ↑ from Northwest\\nMore weather last week\\nCurrently at nearby stations', 'score': 0.5828672267326733, 'raw_content': 'Home \\xa0 Weather \\xa0 Canada \\xa0 Toronto\\nWeather in Toronto, Ontario, Canada\\nTime/General\\nWeather\\nTime Zone\\nDST Changes\\nSun & Moon\\nWeather TodayWeather Hourly14 Day ForecastYesterday/Past WeatherClimate (Averages)\\nNow\\n28\\xa0°F\\nScattered clouds.\\nFeels Like: 18\\xa0°F\\nForecast: 30 / 11\\xa0°F\\nWind: 13 mph ↑ from Southwest\\nLocation:   Toronto Pearson International Airport\\nCurrent Time:   Feb 22, 2025 at 2:05:43 pm\\nLatest Report:  Feb 22, 2025 at 1:00 pm\\nVisibility: 15\\xa0mi\\nPressure:   30.14 \"Hg\\nHumidity:   64%\\nDew Point:  18\\xa0°F\\nUpcoming 5 hours\\nNow 3:00 pm 4:00 pm 5:00 pm 6:00 pm 7:00 pm\\n28\\xa0°F   29\\xa0°F   29\\xa0°F   28\\xa0°F   28\\xa0°F   27\\xa0°F\\nSee more hour-by-hour weather\\nForecast for the next 48 hours\\n\\xa0   Saturday    Sunday  Monday\\n\\xa0   Afternoon   Evening Night   Morning Afternoon   Evening Night\\nForecast                          \\nTemperature 29\\xa0°F   26\\xa0°F   24\\xa0°F   25\\xa0°F   31\\xa0°F   29\\xa0°F   29\\xa0°F\\n    Light snow. Mostly cloudy.  Light snow. Overcast.   Light snow. Cloudy. Light snow. Overcast.   Light snow. Overcast.   Light snow. Overcast.   Mostly cloudy.\\nFeels Like  18\\xa0°F   14\\xa0°F   13\\xa0°F   16\\xa0°F   22\\xa0°F   22\\xa0°F   23\\xa0°F\\nWind Speed  15 mph  14 mph  11 mph  8 mph   10 mph  8 mph   6 mph\\nWind Direction  SW\\n↑   WSW\\n↑   WSW\\n↑   WSW\\n↑   SW\\n↑   SW\\n↑   SSW\\n↑\\nHumidity    64% 76% 79% 81% 77% 84% 83%\\nDew Point   19\\xa0°F   19\\xa0°F   19\\xa0°F   20\\xa0°F   24\\xa0°F   25\\xa0°F   24\\xa0°F\\nVisibility  7\\xa0mi    2\\xa0mi    2\\xa0mi    2\\xa0mi    2\\xa0mi    2\\xa0mi    5\\xa0mi\\nProbability of Precipitation    10% 39% 23% 23% 25% 26% 2%\\nAmount of Snow  0.04\"   0.33\"   0.22\"   0.24\"   0.24\"   0.12\"   -\\n* Updated Saturday, February 22, 2025 8:42:49 am Toronto time - Weather by CustomWeather, © 2025\\n14 day forecast, day-by-day\\nHour-by-hour forecast for next week\\nYesterday\\'s weather\\nPassing clouds. 21 / 10\\xa0°F\\nHumidity: 68%. Wind: 11 mph ↑ from Northwest\\nMore weather last week\\nCurrently at nearby stations\\n28\\xa0°F\\nToronto Island Airport: (2\\xa0mi)\\nSunny. (1 hour ago)\\n49\\xa0°F\\nSechelt: (2,112\\xa0mi)\\nCool. (1 hour ago)\\nMore weather in Canada\\nForecast for the next 2 weeks\\nSun Mon Tue Wed Thu Fri Sat\\n16\\n17\\n18\\n19\\n20\\n21\\nView historic weather\\n22\\n30 / 11\\xa0°F\\n23\\n31 / 22\\xa0°F\\n24\\n38 / 28\\xa0°F\\n25\\n38 / 33\\xa0°F\\n26\\n36 / 32\\xa0°F\\n27\\n36 / 21\\xa0°F\\n28\\n25 / 14\\xa0°F\\n1\\n37 / 23\\xa0°F\\n2\\n30 / 24\\xa0°F\\n3\\n24 / 18\\xa0°F\\n4\\n26 / 19\\xa0°F\\n5\\n29 / 19\\xa0°F\\n6\\n31 / 23\\xa0°F\\n7\\n28 / 21\\xa0°F\\n8\\n29 / 19\\xa0°F\\nDetailed forecast for 14 days\\nNeed some help?\\nAdvertising\\nHow was your experience?\\nContact Us \\nLove Our Site? Become a Supporter\\nBrowse our site advert free.\\nSun & Moon times precise to the second.\\nExclusive calendar templates for PDF Calendar.\\n© Time and Date AS 1995–2025\\nCompany\\nAbout us\\nCareers/Jobs\\nContact Us\\nContact Details\\nSitemap\\nNewsletter\\nLegal\\nLink policy\\nAdvertising\\nDisclaimer\\nTerms & Conditions\\nPrivacy Policy\\nMy Privacy\\nServices\\nWorld Clock\\nTime Zones\\nCalendar\\nWeather\\nSun & Moon\\nTimers\\nCalculators\\nAPI\\nApps\\nSites\\ntimeanddate.no\\ntimeanddate.de\\nFollow Us'}]\u001b[0m\u001b[32;1m\u001b[1;3mThe current weather in Toronto is 42°F (approximately 6°C) and cloudy, with a chance of rain expected around 4:30 PM. The temperature feels like 38°F due to humidity levels at 94%. \n",
      "\n",
      "Final Answer: The current weather in Toronto is 42°F (cloudy) with rain expected later.\u001b[0m\n",
      "\n",
      "\u001b[1m> Finished chain.\u001b[0m\n"
     ]
    }
   ],
   "source": [
    "res = agent_executor.invoke({\"input\": \"What is the current weather in Toronto?\"})"
   ]
  },
  {
   "cell_type": "markdown",
   "id": "12b0a8ca-aa57-428d-8168-2d18c42320bd",
   "metadata": {},
   "source": [
    "### Explore tiktoken"
   ]
  },
  {
   "cell_type": "code",
   "execution_count": 19,
   "id": "7437c043-4d3d-442a-96a8-5edca80f4d2e",
   "metadata": {},
   "outputs": [
    {
     "name": "stdout",
     "output_type": "stream",
     "text": [
      "Number of tokens: 6\n",
      "Tokens: [2028, 374, 264, 1296, 2246, 13]\n",
      "Decoded text[:1]: |This|\n",
      "Decoded text[:2]: |This is|\n",
      "Decoded text[:3]: |This is a|\n",
      "Decoded text[:4]: |This is a test|\n",
      "Decoded text[:5]: |This is a test document|\n",
      "Decoded text[:6]: |This is a test document.|\n"
     ]
    }
   ],
   "source": [
    "encoding = tiktoken.encoding_for_model(\"text-embedding-3-small\")\n",
    "text = \"This is a test document.\"\n",
    "tokens = encoding.encode(text)\n",
    "print(f\"Number of tokens: {len(tokens)}\")\n",
    "print(f\"Tokens: {tokens}\")\n",
    "\n",
    "for i in range(1, len(tokens)+1):\n",
    "    decoded_text = encoding.decode(tokens[:i])\n",
    "    print(f\"Decoded text[:{i}]: |{decoded_text}|\")"
   ]
  },
  {
   "cell_type": "code",
   "execution_count": 20,
   "id": "4bcd383d-1cdb-4331-9420-7c4720f88704",
   "metadata": {},
   "outputs": [
    {
     "name": "stdout",
     "output_type": "stream",
     "text": [
      "\n",
      "Total number of tokens across all documents: 19\n"
     ]
    }
   ],
   "source": [
    "docs = [\n",
    "    \"This is the first document.\",\n",
    "    \"This is the second document.\",\n",
    "    \"And this is the third one.\"\n",
    "]\n",
    "total_tokens = 0\n",
    "for doc in docs:\n",
    "    tokens = encoding.encode(doc)\n",
    "    total_tokens += len(tokens)\n",
    "print(f\"\\nTotal number of tokens across all documents: {total_tokens}\")"
   ]
  },
  {
   "cell_type": "code",
   "execution_count": 38,
   "id": "428f3abf-18bb-4942-b84e-ef58c1472e9a",
   "metadata": {},
   "outputs": [
    {
     "data": {
      "text/plain": [
       "'Title\\nArtzFolio Tulip Flowers Blackout Curtain for Door, Window & Room | Eyelets & Tie Back | Canvas Fabric | Width 4.5feet (54inch) Height 5 feet (60 inch); Set of 2 PCS'"
      ]
     },
     "execution_count": 38,
     "metadata": {},
     "output_type": "execute_result"
    }
   ],
   "source": [
    "documents[0].page_content"
   ]
  },
  {
   "cell_type": "code",
   "execution_count": 39,
   "id": "5b037932-9ea0-434c-acb5-708213b501c2",
   "metadata": {},
   "outputs": [
    {
     "data": {
      "text/plain": [
       "[3936,\n",
       " 198,\n",
       " 9470,\n",
       " 89,\n",
       " 37,\n",
       " 73267,\n",
       " 43316,\n",
       " 575,\n",
       " 52645,\n",
       " 5348,\n",
       " 412,\n",
       " 84657,\n",
       " 369,\n",
       " 25166,\n",
       " 11,\n",
       " 13956,\n",
       " 612,\n",
       " 10637,\n",
       " 765,\n",
       " 28929,\n",
       " 10145,\n",
       " 612,\n",
       " 59825,\n",
       " 6984,\n",
       " 765,\n",
       " 26782,\n",
       " 37407,\n",
       " 765,\n",
       " 25650,\n",
       " 220,\n",
       " 19,\n",
       " 13,\n",
       " 20,\n",
       " 1897,\n",
       " 295,\n",
       " 320,\n",
       " 4370,\n",
       " 37850,\n",
       " 8,\n",
       " 22147,\n",
       " 220,\n",
       " 20,\n",
       " 7693,\n",
       " 320,\n",
       " 1399,\n",
       " 17560,\n",
       " 1237,\n",
       " 2638,\n",
       " 315,\n",
       " 220,\n",
       " 17,\n",
       " 92197]"
      ]
     },
     "execution_count": 39,
     "metadata": {},
     "output_type": "execute_result"
    }
   ],
   "source": [
    "encoding.encode(documents[0].page_content)"
   ]
  },
  {
   "cell_type": "code",
   "execution_count": 40,
   "id": "18aa385b-e318-47e0-ad2c-d718bb635b6c",
   "metadata": {},
   "outputs": [
    {
     "data": {
      "text/plain": [
       "52"
      ]
     },
     "execution_count": 40,
     "metadata": {},
     "output_type": "execute_result"
    }
   ],
   "source": [
    "len(encoding.encode(documents[0].page_content))"
   ]
  },
  {
   "cell_type": "code",
   "execution_count": 42,
   "id": "8dd7740c-850d-4fec-9933-a7b4220a3d75",
   "metadata": {},
   "outputs": [],
   "source": [
    "token_counts = []\n",
    "for doc in documents:\n",
    "    page_content = doc.page_content\n",
    "    encoding = tiktoken.encoding_for_model(\"text-embedding-3-small\")\n",
    "    token_count = len(encoding.encode(page_content))\n",
    "    token_counts.append(token_count)"
   ]
  },
  {
   "cell_type": "code",
   "execution_count": 43,
   "id": "ace4c8e7-ab2e-49a1-93cf-f2eace8b8530",
   "metadata": {},
   "outputs": [
    {
     "name": "stdout",
     "output_type": "stream",
     "text": [
      "[52, 25, 25, 62, 22, 25, 79, 50, 40, 15, 52, 56, 48, 46, 29, 11, 30, 68, 56, 59, 63, 60, 67, 56, 20, 36, 48, 47, 36, 11, 24, 29, 47, 49, 49, 14, 13, 25, 25, 15, 36, 36, 67, 58, 54, 46, 23, 13, 10, 19, 62, 13, 16, 20, 57, 63, 67, 68, 22, 24, 87, 67, 38, 42, 52, 45, 10, 35, 49, 46, 60, 69, 74, 73, 47, 44, 50, 44, 51, 29, 11, 22, 30, 56, 70, 53, 67, 48, 48, 44, 22, 15, 53, 17, 47, 28, 16, 6, 28, 47, 49, 64, 8, 8, 25, 52, 32, 46, 40, 62, 64, 62, 78, 69, 11, 16, 8, 25, 19, 11, 28, 33, 20, 44, 42, 22, 18, 67, 50, 83, 112, 4, 54, 60, 70, 53, 57, 7, 11, 45, 51, 51, 51, 4, 14, 37, 12, 33, 63, 65, 62, 62, 79, 24, 19, 56, 42, 51, 37, 28, 22, 54, 53, 40, 16, 43, 46, 22, 57, 52, 66, 53, 57, 45, 25, 50, 53, 47, 22, 10, 25, 43, 46, 45, 44, 44, 48, 48, 24, 17, 11, 21, 51, 51, 32, 12, 27, 24, 57, 101, 103, 101, 103, 56, 8, 19, 35, 11, 28, 44, 54, 65, 54, 44, 53, 75, 22, 67, 81, 63, 11, 44, 60, 62, 76, 47, 34, 29, 6, 23, 54, 58, 24, 13, 41, 38, 15, 70]\n"
     ]
    }
   ],
   "source": [
    "print(token_counts)"
   ]
  },
  {
   "cell_type": "code",
   "execution_count": 45,
   "id": "748f342c-a63d-4d9b-9f7e-4bef9b997bba",
   "metadata": {},
   "outputs": [
    {
     "name": "stdout",
     "output_type": "stream",
     "text": [
      "9963\n"
     ]
    }
   ],
   "source": [
    "total_tokens = sum(token_counts)\n",
    "print(total_tokens)"
   ]
  },
  {
   "cell_type": "code",
   "execution_count": 52,
   "id": "9d830992-6ffd-410d-be0a-1f0eee8a43fd",
   "metadata": {},
   "outputs": [
    {
     "name": "stdout",
     "output_type": "stream",
     "text": [
      "cost_in_cents=0.01992600\n"
     ]
    }
   ],
   "source": [
    "tokens_per_page = 800\n",
    "pages = total_tokens / tokens_per_page\n",
    "pages_per_dollar = 62500\n",
    "cost_in_dollars = pages / pages_per_dollar\n",
    "cost_in_cents = cost_in_dollars * 100\n",
    "print(f'{cost_in_cents=:.8f}')"
   ]
  },
  {
   "cell_type": "code",
   "execution_count": null,
   "id": "9bcb5215-31b1-4c62-b247-a7f514ff4533",
   "metadata": {},
   "outputs": [],
   "source": []
  }
 ],
 "metadata": {
  "kernelspec": {
   "display_name": "Python 3 (ipykernel)",
   "language": "python",
   "name": "python3"
  },
  "language_info": {
   "codemirror_mode": {
    "name": "ipython",
    "version": 3
   },
   "file_extension": ".py",
   "mimetype": "text/x-python",
   "name": "python",
   "nbconvert_exporter": "python",
   "pygments_lexer": "ipython3",
   "version": "3.13.0"
  }
 },
 "nbformat": 4,
 "nbformat_minor": 5
}
